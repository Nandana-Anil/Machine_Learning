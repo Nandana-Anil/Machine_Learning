{
 "cells": [
  {
   "cell_type": "code",
   "execution_count": null,
   "metadata": {},
   "outputs": [],
   "source": [
    "# __Decision Tree Algorithm__\n",
    "\n",
    "# - supervised ML algo\n",
    "# - used for both classification & regression"
   ]
  },
  {
   "cell_type": "code",
   "execution_count": null,
   "metadata": {},
   "outputs": [],
   "source": [
    "# __Working__\n",
    "\n",
    "# - Input - acts as nodes\n",
    "# - Output - acts as leaf\n",
    "\n",
    "# -> Drawing Tree - Divide and Conquer Method - is repeated untill we get similar class"
   ]
  },
  {
   "cell_type": "code",
   "execution_count": null,
   "metadata": {},
   "outputs": [],
   "source": [
    "# __Finding root node__\n",
    "\n",
    "# - uses Entropy and Information Gain\n",
    "\n",
    "# Entropy\n",
    "\n",
    "# - measurement of randomness/impurity\n",
    "# - range : 0 to 1\n",
    "# - if 2 types are in equal proportion => entropy = 1 (5 green & 5 blue balls)\n",
    "# - if only 1 type => entropy = 0 (10 blue balls)\n",
    "\n",
    "# - Equation : \n",
    "#     H(S) = - ∑ (p_i * log₂(p_i)), for i = 1 to c\n",
    "#     Where:\n",
    "#         H(S): Entropy of the dataset S\n",
    "#         c: Number of classes\n",
    "#         p_i: Probability of class i"
   ]
  },
  {
   "cell_type": "code",
   "execution_count": null,
   "metadata": {},
   "outputs": [],
   "source": [
    "# Information Gain\n",
    "\n",
    "# - Equation : \n",
    "#     Infomation Gain(IG) = E(S1)-E(S2)\n",
    "\n",
    "# - The class with highest IG is chosen as root node\n",
    "\n",
    "# - E(S1) => Entropy before splitting\n",
    "#   E(S2) => Entropy before splitting"
   ]
  },
  {
   "cell_type": "code",
   "execution_count": null,
   "metadata": {},
   "outputs": [],
   "source": [
    "# ?. Problem 1 - Balance & Rent \n",
    "\n",
    "# - IG (Balance) = E(S1)-E(S2)\n",
    "\n",
    "#   E(S1) = -16/30 log2(16/30) + -14/30 log2(14/30) = 0.99\n",
    "\n",
    "#   E(S2) => E(balance<50k) = -12/13 log2(12/13) + -1/13 log2(1/13) = 0.39\n",
    "#            E(balance>=50k) = -4/17 log2(4/17) + -13/17 log2(13/17) = 0.78\n",
    "#   E(S2) = 13/30 * 0.39 + 17/30 * 0.78 = 0.61\n",
    "\n",
    "#   IG(balance) = 0.99-0.61 = 0.38\n",
    "#   IG(Residence) = 0.14\n",
    "\n",
    "# Since, IG is greater when split at balance -> root node is balance"
   ]
  }
 ],
 "metadata": {
  "language_info": {
   "name": "python"
  }
 },
 "nbformat": 4,
 "nbformat_minor": 2
}
