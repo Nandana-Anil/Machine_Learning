{
 "cells": [
  {
   "cell_type": "code",
   "execution_count": null,
   "metadata": {
    "vscode": {
     "languageId": "plaintext"
    }
   },
   "outputs": [],
   "source": [
    "----SVM----\n",
    "\n",
    "-Support Vector Machine\n",
    "-Supervised ml algo\n",
    "-used for classification\n",
    "\n",
    "-Image classification\n",
    "\n",
    "-used when the groups can be separated using a linearly separable line\n",
    "-machine chooses the linearly separable line such that it is at maximum distance from the groups\n",
    "-then, the machine draws a plane enclosing this line: the hyper plane\n",
    "-the points that this plane passes through are called support vectors"
   ]
  },
  {
   "cell_type": "code",
   "execution_count": null,
   "metadata": {
    "vscode": {
     "languageId": "plaintext"
    }
   },
   "outputs": [],
   "source": [
    "Classifier used: SVC\n",
    "\n",
    "from sklearn.svm import SVC "
   ]
  }
 ],
 "metadata": {
  "language_info": {
   "name": "python"
  }
 },
 "nbformat": 4,
 "nbformat_minor": 2
}
