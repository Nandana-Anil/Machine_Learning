{
 "cells": [
  {
   "cell_type": "code",
   "execution_count": null,
   "metadata": {
    "vscode": {
     "languageId": "plaintext"
    }
   },
   "outputs": [],
   "source": [
    "__Multiple Linear Regression__\n",
    "\n",
    "-multiple number of independent variables, 1 independent variables\n",
    "-eg: House price prediction, Weather prediction\n",
    "-we find how each independent variable affects the dependent variable (plot each graph)"
   ]
  },
  {
   "cell_type": "code",
   "execution_count": null,
   "metadata": {
    "vscode": {
     "languageId": "plaintext"
    }
   },
   "outputs": [],
   "source": [
    "y = m1x1 + m2x2 + m3x3 + .....mnxn + c"
   ]
  },
  {
   "cell_type": "code",
   "execution_count": null,
   "metadata": {
    "vscode": {
     "languageId": "plaintext"
    }
   },
   "outputs": [],
   "source": [
    "__Encoding__\n",
    "\n",
    "Label Encoding \n",
    "-assigning 0 to n-1 values to each label\n",
    "-drawback : a hierarchy is formed\n",
    "\n",
    "One-Hot Encoding\n",
    "-helps overcome drawback of Label Encoding\n",
    "-expands to colums, no.of columns = no.of labels\n",
    "\n",
    "        Apple  Orange  Mango\n",
    "Apple:    1      0       0\n",
    "Orange:   0      1       0\n",
    "Mango:    0      0       1\n",
    "\n",
    "-not used much, has a drawback"
   ]
  },
  {
   "cell_type": "code",
   "execution_count": null,
   "metadata": {
    "vscode": {
     "languageId": "plaintext"
    }
   },
   "outputs": [],
   "source": [
    "__Overfitting and Underfitting__\n",
    "\n",
    "- Bias : Error in training data\n",
    "- Varience : Error in testing data\n",
    "\n",
    "*- Overfitting -*\n",
    "- if there are less errors in training data, but a lot more in testing data\n",
    "- low bias, high varience\n",
    "- r2 score -ve => Overfitting, accuracy score = 1 => Overfitting\n",
    "- regression line passes through training data points without touching testing data points\n",
    "\n",
    "- Reasons for Overfitting:\n",
    "    1. Model is too complex (a lot of input features) (drawback of One-Hot Encoding)\n",
    "    2. Size of training data is less\n",
    "\n",
    "- How to reduce:\n",
    "    1. Increase quality of training data\n",
    "    2. Reduce complexity of model\n",
    "    3. Increase size of training data"
   ]
  },
  {
   "cell_type": "code",
   "execution_count": null,
   "metadata": {
    "vscode": {
     "languageId": "plaintext"
    }
   },
   "outputs": [],
   "source": [
    "*-Underfitting-*\n",
    "- high bias, low varience\n",
    "\n",
    "- Reasons for Underfitting:\n",
    "    1. Model is too simple (less no.of input features)\n",
    "    2. Size of training data is more\n",
    "    3. Feature is not scaled\n",
    "\n",
    "- How to reduce:\n",
    "    1. Make model complex, but not too complex\n",
    "    2. Increase no.of features\n",
    "    3. Remove noisy data\n",
    "    4. Increase no.of epochs"
   ]
  },
  {
   "cell_type": "code",
   "execution_count": null,
   "metadata": {
    "vscode": {
     "languageId": "plaintext"
    }
   },
   "outputs": [],
   "source": [
    "One Hot Encoding drawback: Increases no.of columns, so might cause overfitting"
   ]
  },
  {
   "cell_type": "code",
   "execution_count": null,
   "metadata": {
    "vscode": {
     "languageId": "plaintext"
    }
   },
   "outputs": [],
   "source": [
    "__get_dummies Encoding__\n",
    "\n",
    "-not present in sklearn, present in pandas\n",
    "-drops first column inn one-hot Encoding\n",
    "\n",
    "        Orange Mango Grape\n",
    "Apple     0      0     0\n",
    "Orange    1      0     0\n",
    "Mango     0      1     0\n",
    "Grape     0      0     1\n",
    "\n",
    "-in get_dummies, we can decrease 1 column per column to be encoded\n"
   ]
  }
 ],
 "metadata": {
  "language_info": {
   "name": "python"
  }
 },
 "nbformat": 4,
 "nbformat_minor": 2
}
