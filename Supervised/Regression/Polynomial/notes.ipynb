{
 "cells": [
  {
   "cell_type": "code",
   "execution_count": null,
   "metadata": {
    "vscode": {
     "languageId": "plaintext"
    }
   },
   "outputs": [],
   "source": [
    "__Polynomial Regression__\n",
    "\n",
    "- used in Linear regression, when performance is not improving\n",
    "- increase degree\n",
    "\n",
    "degree = 2   ax^2+bx+c=0 ===> 3 features\n",
    "degree = 3   ax^3+bx^2+cx+d ===> 4 features"
   ]
  }
 ],
 "metadata": {
  "language_info": {
   "name": "python"
  }
 },
 "nbformat": 4,
 "nbformat_minor": 2
}
