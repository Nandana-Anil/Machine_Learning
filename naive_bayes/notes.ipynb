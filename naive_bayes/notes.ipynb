{
 "cells": [
  {
   "cell_type": "code",
   "execution_count": null,
   "metadata": {
    "vscode": {
     "languageId": "plaintext"
    }
   },
   "outputs": [],
   "source": [
    "Naive Bayes\n",
    "\n",
    "- supervised ML algo\n",
    "- used for classification\n",
    "- based on probability\n",
    "\n",
    "Bayes Theorem\n",
    "\n",
    "- probability : chance of an event occuring\n",
    "- conditional probability : an event has occured, the probability of another event occuring based on this\n",
    "   \n",
    "   P(A|B) = P(A intersection B) / P(B)\n",
    "\n",
    "- Bayes theorem calculates probability of an event occuring and not occuring, then predicts accordingly\n",
    "\n",
    "   P(A|B) = P(B|A) * P(A) / P(B)\n",
    "       P(A|B) = Posterior probability\n",
    "       P(B|A) = Likelihood probability\n",
    "       P(A) = Prior probability\n",
    "       P(B) = Marginal probability\n"
   ]
  }
 ],
 "metadata": {
  "language_info": {
   "name": "python"
  }
 },
 "nbformat": 4,
 "nbformat_minor": 2
}
