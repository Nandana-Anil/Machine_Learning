{
 "cells": [
  {
   "cell_type": "code",
   "execution_count": null,
   "metadata": {
    "vscode": {
     "languageId": "plaintext"
    }
   },
   "outputs": [],
   "source": [
    "__Multiple Linear Regression__\n",
    "\n",
    "-multiple number of independent variables, 1 independent variables\n",
    "-eg: House price prediction, Weather prediction\n",
    "-we find how each independent variable affects the dependent variable (plot each graph)"
   ]
  },
  {
   "cell_type": "code",
   "execution_count": null,
   "metadata": {
    "vscode": {
     "languageId": "plaintext"
    }
   },
   "outputs": [],
   "source": [
    "y = m1x1 + m2x2 + m3x3 + .....mnxn + c"
   ]
  },
  {
   "cell_type": "code",
   "execution_count": null,
   "metadata": {
    "vscode": {
     "languageId": "plaintext"
    }
   },
   "outputs": [],
   "source": [
    "__Encoding__\n",
    "\n",
    "Label Encoding \n",
    "-assigning 0 to n-1 values to each label\n",
    "-drawback : a hierarchy is formed\n",
    "\n",
    "One-Hot Encoding\n",
    "-helps overcome drawback of Label Encoding\n",
    "-expands to colums, no.of columns = no.of labels\n",
    "\n",
    "        Apple  Orange  Mango\n",
    "Apple:    1      0       0\n",
    "Orange:   0      1       0\n",
    "Mango:    0      0       1\n",
    "\n",
    "-not used much, has a drawback"
   ]
  }
 ],
 "metadata": {
  "language_info": {
   "name": "python"
  }
 },
 "nbformat": 4,
 "nbformat_minor": 2
}
