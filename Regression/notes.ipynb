{
 "cells": [
  {
   "cell_type": "code",
   "execution_count": null,
   "metadata": {},
   "outputs": [],
   "source": [
    "# - Classification --> used to predict categorical data\n",
    "# - Regression --> used to predict numerical data\n",
    "\n",
    "# ___Types___\n",
    "\n",
    "# 1) Simple Linear Regression\n",
    "# 2) Multiple Linear Regression\n",
    "# 3) Polynomial Regression"
   ]
  },
  {
   "cell_type": "code",
   "execution_count": null,
   "metadata": {},
   "outputs": [],
   "source": [
    "# - Dependent Variable --> The column to be predicted is dependetent Variable\n",
    "# - Independent Variable --> Rest of the columns"
   ]
  },
  {
   "cell_type": "code",
   "execution_count": null,
   "metadata": {},
   "outputs": [],
   "source": [
    "# - Simple Linear --> used when 1 independent, 1 dependent Variable\n",
    "# - Multiple Linear --> 1 dependent, multiple independent variables"
   ]
  },
  {
   "cell_type": "code",
   "execution_count": null,
   "metadata": {},
   "outputs": [],
   "source": [
    "# --Algorithm--\n",
    "\n",
    "# - Draw Regression Line --> Straight line that passes through all given points (or passes nearby)\n",
    "# - The y value of the point on the line that corresponds to the x value of the given point is the predicted value\n",
    "\n",
    "# y = mx+c\n",
    "# y=o/p \n",
    "# m=slope of line \n",
    "# x=independent variable\n",
    "# c=constant\n",
    "\n",
    "# - error = predicted val - actual val\n",
    "# - good model => less error\n"
   ]
  },
  {
   "cell_type": "code",
   "execution_count": null,
   "metadata": {},
   "outputs": [],
   "source": [
    "# Performance Evaluation Methods:\n",
    "\n",
    "# 1) MAE - Mean Absolute Error \n",
    "# 2) MAPE - Mean Absolute Percentage Error \n",
    "# 3) MSE - Mean Squared Error\n",
    "# 4) RMSE - Root Mean Squared Error\n",
    "# 5) R2_score - Coefficence of Determination"
   ]
  },
  {
   "cell_type": "code",
   "execution_count": null,
   "metadata": {},
   "outputs": [],
   "source": [
    "# MAE \n",
    "\n",
    "# Actual value = Y \n",
    "# Predicted value = Y^ \n",
    "\n",
    "# MAE = (1/n) * Σ | y_i - ŷ_i |\n",
    "\n",
    "# - n = Total number of observations\n",
    "# - y_i = Actual value of the i-th observation\n",
    "# - ŷ_i = Predicted value of the i-th observation\n",
    "# - | y_i - ŷ_i | = Absolute difference between actual and predicted values"
   ]
  },
  {
   "cell_type": "code",
   "execution_count": null,
   "metadata": {},
   "outputs": [],
   "source": [
    "# MAPE --> percentage of absolue error"
   ]
  },
  {
   "cell_type": "code",
   "execution_count": null,
   "metadata": {},
   "outputs": [],
   "source": [
    "# MSE \n",
    "\n",
    "# MSE = (1/n) * Σ (y_i - ŷ_i)²\n",
    "\n",
    "# - n = Total number of observations\n",
    "# - y_i = Actual value of the i-th observation\n",
    "# - ŷ_i = Predicted value of the i-th observation\n",
    "# - (y_i - ŷ_i)² = Squared difference between actual and predicted values\n"
   ]
  },
  {
   "cell_type": "code",
   "execution_count": null,
   "metadata": {},
   "outputs": [],
   "source": [
    "# RMSE --> Root of MSE"
   ]
  },
  {
   "cell_type": "code",
   "execution_count": null,
   "metadata": {},
   "outputs": [],
   "source": [
    "# Focus on : \n",
    "\n",
    "# MAPE - low ==> good model\n",
    "# R2 score - high ==> good model"
   ]
  }
 ],
 "metadata": {
  "kernelspec": {
   "display_name": "Python 3",
   "language": "python",
   "name": "python3"
  },
  "language_info": {
   "codemirror_mode": {
    "name": "ipython",
    "version": 3
   },
   "file_extension": ".py",
   "mimetype": "text/x-python",
   "name": "python",
   "nbconvert_exporter": "python",
   "pygments_lexer": "ipython3",
   "version": "3.8.0"
  }
 },
 "nbformat": 4,
 "nbformat_minor": 2
}
