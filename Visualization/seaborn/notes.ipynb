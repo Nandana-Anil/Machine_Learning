{
 "cells": [
  {
   "cell_type": "code",
   "execution_count": null,
   "metadata": {},
   "outputs": [],
   "source": [
    "# Feature extraction\n",
    "\n",
    "# 1. Correlation:\n",
    "\n",
    "# - To know the relationship between 2 numberical type columns\n",
    "# - range: +1 to -1\n",
    "# - 3 types: \n",
    "#     positive: directly proportional\n",
    "#     negative: inversely proportional \n",
    "#     no correlation"
   ]
  },
  {
   "cell_type": "code",
   "execution_count": null,
   "metadata": {},
   "outputs": [],
   "source": [
    "# __Outliers__\n",
    "\n",
    "#wrong data\n",
    "#Calculation:\n",
    "#     1. sort data in ascending order\n",
    "#     2. calculate median of this - divide into 2 parts\n",
    "#     3. calculate Q2, Q1, Q3 \n",
    "#     4. calculate IQR (Inter Quartile Range) = (Q3-Q1)\n",
    "\n",
    "# Eg:\n",
    "\n",
    "# 3,7,1,1,8,4,6,9  ==>  1,1,3,4   6,7,8,9\n",
    "\n",
    "# Median = 5      Q2: 50 percentile\n",
    "# Median of first part = 2       Q1: 25 percentile\n",
    "# Median of second part = 7.5    Q3: 75 percentile\n",
    "# IQR = 7.5-2 = 5.5\n",
    "\n",
    "#Top Outliers = (1.5*5.5+7.5) = 15.75 -> values above this are considered top outliers\n",
    "#Bottom Outliers = (2-1.5*5.5) = 6.25 -> values below this are considered bottom outliers"
   ]
  },
  {
   "cell_type": "code",
   "execution_count": null,
   "metadata": {},
   "outputs": [],
   "source": [
    "#  Outliers can be:\n",
    "\n",
    "# 1. Top Outliers = (1.5*IQR+Q3)\n",
    "# 2. Bottom Outliers = (Q1-1.5*IQR)"
   ]
  }
 ],
 "metadata": {
  "language_info": {
   "name": "python"
  }
 },
 "nbformat": 4,
 "nbformat_minor": 2
}
