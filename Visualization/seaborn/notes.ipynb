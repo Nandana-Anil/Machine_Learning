{
 "cells": [
  {
   "cell_type": "code",
   "execution_count": null,
   "metadata": {},
   "outputs": [],
   "source": [
    "# Feature extraction\n",
    "\n",
    "# 1. Correlation:\n",
    "\n",
    "# - To know the relationship between 2 numberical type columns\n",
    "# - range: +1 to -1\n",
    "# - 3 types: \n",
    "#     positive: directly proportional\n",
    "#     negative: inversely proportional \n",
    "#     no correlation"
   ]
  }
 ],
 "metadata": {
  "language_info": {
   "name": "python"
  }
 },
 "nbformat": 4,
 "nbformat_minor": 2
}
