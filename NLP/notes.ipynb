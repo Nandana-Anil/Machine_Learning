{
 "cells": [
  {
   "cell_type": "code",
   "execution_count": null,
   "metadata": {},
   "outputs": [],
   "source": [
    "# __Natural Language Processing__\n",
    "\n",
    "# - converting our language into a form that machine can understand\n",
    "# - eg : Chatbot, Sentiment Analysis"
   ]
  },
  {
   "cell_type": "code",
   "execution_count": null,
   "metadata": {},
   "outputs": [],
   "source": [
    "# __Pre-processing Steps__\n",
    "\n",
    "# Optional Steps\n",
    "\n",
    "# 1. Remove HTML Tags \n",
    "# 2. Remove Extra white spaces\n",
    "# 3. Convert Accented character into ASCII\n",
    "# 4. Expand short form\n",
    "# 5. Remove special characters\n",
    "\n",
    "# Mandatory Steps\n",
    "\n",
    "# 1. Remove Stop words (eg: the, is, are, was ...) (almost 179)\n",
    "# 2. Convert all text to lowercase\n",
    "\n",
    "# 3. Lemmatization or Stemming --> To find root words\n",
    "#     Stemming => cuts tail part to get root word\n",
    "#     Lemmatization => algorithm-based\n",
    "\n",
    "# 4. Tokenization --> dividing sentence to get word by word data\n",
    "#     a. N-gram => n words into 1 token\n",
    "#        eg : Sun rises in the east\n",
    "#             2-gram: Sun rises, rises in, in the, the east\n",
    "#             3-gram: sun rises in, rises in the, in the east\n",
    "\n",
    "# 5. Vectorization --> converting to vectors(numerical representation)\n",
    "#         TFIDF (Term Frequency Inverse Document Frequency)"
   ]
  },
  {
   "cell_type": "code",
   "execution_count": null,
   "metadata": {},
   "outputs": [],
   "source": [
    "__TFIDF__\n",
    "\n",
    "- IDF = log(TD/AD)  TD -> Total Document, AD -> Available Document(the documents in which this word is present)\n",
    "- Calculate TF of each word\n",
    "- Calculate IDF of each word\n",
    "- Calculate TF-IDF = TF*IDF"
   ]
  }
 ],
 "metadata": {
  "language_info": {
   "name": "python"
  }
 },
 "nbformat": 4,
 "nbformat_minor": 2
}
