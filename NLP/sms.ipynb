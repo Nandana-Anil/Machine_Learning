{
 "cells": [
  {
   "cell_type": "code",
   "execution_count": 86,
   "metadata": {},
   "outputs": [
    {
     "data": {
      "text/html": [
       "<div>\n",
       "<style scoped>\n",
       "    .dataframe tbody tr th:only-of-type {\n",
       "        vertical-align: middle;\n",
       "    }\n",
       "\n",
       "    .dataframe tbody tr th {\n",
       "        vertical-align: top;\n",
       "    }\n",
       "\n",
       "    .dataframe thead th {\n",
       "        text-align: right;\n",
       "    }\n",
       "</style>\n",
       "<table border=\"1\" class=\"dataframe\">\n",
       "  <thead>\n",
       "    <tr style=\"text-align: right;\">\n",
       "      <th></th>\n",
       "      <th>S. No.</th>\n",
       "      <th>Message_body</th>\n",
       "      <th>Label</th>\n",
       "    </tr>\n",
       "  </thead>\n",
       "  <tbody>\n",
       "    <tr>\n",
       "      <th>0</th>\n",
       "      <td>1</td>\n",
       "      <td>Rofl. Its true to its name</td>\n",
       "      <td>Non-Spam</td>\n",
       "    </tr>\n",
       "    <tr>\n",
       "      <th>1</th>\n",
       "      <td>2</td>\n",
       "      <td>The guy did some bitching but I acted like i'd...</td>\n",
       "      <td>Non-Spam</td>\n",
       "    </tr>\n",
       "    <tr>\n",
       "      <th>2</th>\n",
       "      <td>3</td>\n",
       "      <td>Pity, * was in mood for that. So...any other s...</td>\n",
       "      <td>Non-Spam</td>\n",
       "    </tr>\n",
       "    <tr>\n",
       "      <th>3</th>\n",
       "      <td>4</td>\n",
       "      <td>Will ü b going to esplanade fr home?</td>\n",
       "      <td>Non-Spam</td>\n",
       "    </tr>\n",
       "    <tr>\n",
       "      <th>4</th>\n",
       "      <td>5</td>\n",
       "      <td>This is the 2nd time we have tried 2 contact u...</td>\n",
       "      <td>Spam</td>\n",
       "    </tr>\n",
       "    <tr>\n",
       "      <th>...</th>\n",
       "      <td>...</td>\n",
       "      <td>...</td>\n",
       "      <td>...</td>\n",
       "    </tr>\n",
       "    <tr>\n",
       "      <th>952</th>\n",
       "      <td>953</td>\n",
       "      <td>hows my favourite person today? r u workin har...</td>\n",
       "      <td>Non-Spam</td>\n",
       "    </tr>\n",
       "    <tr>\n",
       "      <th>953</th>\n",
       "      <td>954</td>\n",
       "      <td>How much you got for cleaning</td>\n",
       "      <td>Non-Spam</td>\n",
       "    </tr>\n",
       "    <tr>\n",
       "      <th>954</th>\n",
       "      <td>955</td>\n",
       "      <td>Sorry da. I gone mad so many pending works wha...</td>\n",
       "      <td>Non-Spam</td>\n",
       "    </tr>\n",
       "    <tr>\n",
       "      <th>955</th>\n",
       "      <td>956</td>\n",
       "      <td>Wat time ü finish?</td>\n",
       "      <td>Non-Spam</td>\n",
       "    </tr>\n",
       "    <tr>\n",
       "      <th>956</th>\n",
       "      <td>957</td>\n",
       "      <td>Just glad to be talking to you.</td>\n",
       "      <td>Non-Spam</td>\n",
       "    </tr>\n",
       "  </tbody>\n",
       "</table>\n",
       "<p>957 rows × 3 columns</p>\n",
       "</div>"
      ],
      "text/plain": [
       "     S. No.                                       Message_body     Label\n",
       "0         1                         Rofl. Its true to its name  Non-Spam\n",
       "1         2  The guy did some bitching but I acted like i'd...  Non-Spam\n",
       "2         3  Pity, * was in mood for that. So...any other s...  Non-Spam\n",
       "3         4               Will ü b going to esplanade fr home?  Non-Spam\n",
       "4         5  This is the 2nd time we have tried 2 contact u...      Spam\n",
       "..      ...                                                ...       ...\n",
       "952     953  hows my favourite person today? r u workin har...  Non-Spam\n",
       "953     954                      How much you got for cleaning  Non-Spam\n",
       "954     955  Sorry da. I gone mad so many pending works wha...  Non-Spam\n",
       "955     956                                 Wat time ü finish?  Non-Spam\n",
       "956     957                    Just glad to be talking to you.  Non-Spam\n",
       "\n",
       "[957 rows x 3 columns]"
      ]
     },
     "execution_count": 86,
     "metadata": {},
     "output_type": "execute_result"
    }
   ],
   "source": [
    "import numpy as np \n",
    "import pandas as pd \n",
    "import seaborn as sb \n",
    "import matplotlib.pyplot as plt\n",
    "import nltk\n",
    "\n",
    "df1=pd.read_csv('SMS_train.csv',encoding='ISO-8859-1')\n",
    "df1"
   ]
  },
  {
   "cell_type": "code",
   "execution_count": 87,
   "metadata": {},
   "outputs": [
    {
     "data": {
      "text/html": [
       "<div>\n",
       "<style scoped>\n",
       "    .dataframe tbody tr th:only-of-type {\n",
       "        vertical-align: middle;\n",
       "    }\n",
       "\n",
       "    .dataframe tbody tr th {\n",
       "        vertical-align: top;\n",
       "    }\n",
       "\n",
       "    .dataframe thead th {\n",
       "        text-align: right;\n",
       "    }\n",
       "</style>\n",
       "<table border=\"1\" class=\"dataframe\">\n",
       "  <thead>\n",
       "    <tr style=\"text-align: right;\">\n",
       "      <th></th>\n",
       "      <th>S. No.</th>\n",
       "      <th>Message_body</th>\n",
       "      <th>Label</th>\n",
       "    </tr>\n",
       "  </thead>\n",
       "  <tbody>\n",
       "    <tr>\n",
       "      <th>0</th>\n",
       "      <td>1</td>\n",
       "      <td>UpgrdCentre Orange customer, you may now claim...</td>\n",
       "      <td>Spam</td>\n",
       "    </tr>\n",
       "    <tr>\n",
       "      <th>1</th>\n",
       "      <td>2</td>\n",
       "      <td>Loan for any purpose £500 - £75,000. Homeowner...</td>\n",
       "      <td>Spam</td>\n",
       "    </tr>\n",
       "    <tr>\n",
       "      <th>2</th>\n",
       "      <td>3</td>\n",
       "      <td>Congrats! Nokia 3650 video camera phone is you...</td>\n",
       "      <td>Spam</td>\n",
       "    </tr>\n",
       "    <tr>\n",
       "      <th>3</th>\n",
       "      <td>4</td>\n",
       "      <td>URGENT! Your Mobile number has been awarded wi...</td>\n",
       "      <td>Spam</td>\n",
       "    </tr>\n",
       "    <tr>\n",
       "      <th>4</th>\n",
       "      <td>5</td>\n",
       "      <td>Someone has contacted our dating service and e...</td>\n",
       "      <td>Spam</td>\n",
       "    </tr>\n",
       "    <tr>\n",
       "      <th>...</th>\n",
       "      <td>...</td>\n",
       "      <td>...</td>\n",
       "      <td>...</td>\n",
       "    </tr>\n",
       "    <tr>\n",
       "      <th>120</th>\n",
       "      <td>121</td>\n",
       "      <td>7 wonders in My WORLD 7th You 6th Ur style 5th...</td>\n",
       "      <td>Non-Spam</td>\n",
       "    </tr>\n",
       "    <tr>\n",
       "      <th>121</th>\n",
       "      <td>122</td>\n",
       "      <td>Try to do something dear. You read something f...</td>\n",
       "      <td>Non-Spam</td>\n",
       "    </tr>\n",
       "    <tr>\n",
       "      <th>122</th>\n",
       "      <td>123</td>\n",
       "      <td>Sun ah... Thk mayb can if dun have anythin on....</td>\n",
       "      <td>Non-Spam</td>\n",
       "    </tr>\n",
       "    <tr>\n",
       "      <th>123</th>\n",
       "      <td>124</td>\n",
       "      <td>SYMPTOMS when U are in love: \"1.U like listeni...</td>\n",
       "      <td>Non-Spam</td>\n",
       "    </tr>\n",
       "    <tr>\n",
       "      <th>124</th>\n",
       "      <td>125</td>\n",
       "      <td>Great. Have a safe trip. Dont panic surrender ...</td>\n",
       "      <td>Non-Spam</td>\n",
       "    </tr>\n",
       "  </tbody>\n",
       "</table>\n",
       "<p>125 rows × 3 columns</p>\n",
       "</div>"
      ],
      "text/plain": [
       "     S. No.                                       Message_body     Label\n",
       "0         1  UpgrdCentre Orange customer, you may now claim...      Spam\n",
       "1         2  Loan for any purpose £500 - £75,000. Homeowner...      Spam\n",
       "2         3  Congrats! Nokia 3650 video camera phone is you...      Spam\n",
       "3         4  URGENT! Your Mobile number has been awarded wi...      Spam\n",
       "4         5  Someone has contacted our dating service and e...      Spam\n",
       "..      ...                                                ...       ...\n",
       "120     121  7 wonders in My WORLD 7th You 6th Ur style 5th...  Non-Spam\n",
       "121     122  Try to do something dear. You read something f...  Non-Spam\n",
       "122     123  Sun ah... Thk mayb can if dun have anythin on....  Non-Spam\n",
       "123     124  SYMPTOMS when U are in love: \"1.U like listeni...  Non-Spam\n",
       "124     125  Great. Have a safe trip. Dont panic surrender ...  Non-Spam\n",
       "\n",
       "[125 rows x 3 columns]"
      ]
     },
     "execution_count": 87,
     "metadata": {},
     "output_type": "execute_result"
    }
   ],
   "source": [
    "df2=pd.read_csv('SMS_test.csv',encoding='ISO-8859-1')\n",
    "df2"
   ]
  },
  {
   "cell_type": "code",
   "execution_count": 88,
   "metadata": {},
   "outputs": [
    {
     "data": {
      "text/plain": [
       "(957, 3)"
      ]
     },
     "execution_count": 88,
     "metadata": {},
     "output_type": "execute_result"
    }
   ],
   "source": [
    "df1.shape"
   ]
  },
  {
   "cell_type": "code",
   "execution_count": 89,
   "metadata": {},
   "outputs": [
    {
     "data": {
      "text/plain": [
       "(125, 3)"
      ]
     },
     "execution_count": 89,
     "metadata": {},
     "output_type": "execute_result"
    }
   ],
   "source": [
    "df2.shape"
   ]
  },
  {
   "cell_type": "code",
   "execution_count": 90,
   "metadata": {},
   "outputs": [
    {
     "data": {
      "text/html": [
       "<div>\n",
       "<style scoped>\n",
       "    .dataframe tbody tr th:only-of-type {\n",
       "        vertical-align: middle;\n",
       "    }\n",
       "\n",
       "    .dataframe tbody tr th {\n",
       "        vertical-align: top;\n",
       "    }\n",
       "\n",
       "    .dataframe thead th {\n",
       "        text-align: right;\n",
       "    }\n",
       "</style>\n",
       "<table border=\"1\" class=\"dataframe\">\n",
       "  <thead>\n",
       "    <tr style=\"text-align: right;\">\n",
       "      <th></th>\n",
       "      <th>S. No.</th>\n",
       "      <th>Message_body</th>\n",
       "      <th>Label</th>\n",
       "    </tr>\n",
       "  </thead>\n",
       "  <tbody>\n",
       "    <tr>\n",
       "      <th>0</th>\n",
       "      <td>1</td>\n",
       "      <td>Rofl. Its true to its name</td>\n",
       "      <td>Non-Spam</td>\n",
       "    </tr>\n",
       "    <tr>\n",
       "      <th>1</th>\n",
       "      <td>2</td>\n",
       "      <td>The guy did some bitching but I acted like i'd...</td>\n",
       "      <td>Non-Spam</td>\n",
       "    </tr>\n",
       "    <tr>\n",
       "      <th>2</th>\n",
       "      <td>3</td>\n",
       "      <td>Pity, * was in mood for that. So...any other s...</td>\n",
       "      <td>Non-Spam</td>\n",
       "    </tr>\n",
       "    <tr>\n",
       "      <th>3</th>\n",
       "      <td>4</td>\n",
       "      <td>Will ü b going to esplanade fr home?</td>\n",
       "      <td>Non-Spam</td>\n",
       "    </tr>\n",
       "    <tr>\n",
       "      <th>4</th>\n",
       "      <td>5</td>\n",
       "      <td>This is the 2nd time we have tried 2 contact u...</td>\n",
       "      <td>Spam</td>\n",
       "    </tr>\n",
       "    <tr>\n",
       "      <th>...</th>\n",
       "      <td>...</td>\n",
       "      <td>...</td>\n",
       "      <td>...</td>\n",
       "    </tr>\n",
       "    <tr>\n",
       "      <th>1077</th>\n",
       "      <td>121</td>\n",
       "      <td>7 wonders in My WORLD 7th You 6th Ur style 5th...</td>\n",
       "      <td>Non-Spam</td>\n",
       "    </tr>\n",
       "    <tr>\n",
       "      <th>1078</th>\n",
       "      <td>122</td>\n",
       "      <td>Try to do something dear. You read something f...</td>\n",
       "      <td>Non-Spam</td>\n",
       "    </tr>\n",
       "    <tr>\n",
       "      <th>1079</th>\n",
       "      <td>123</td>\n",
       "      <td>Sun ah... Thk mayb can if dun have anythin on....</td>\n",
       "      <td>Non-Spam</td>\n",
       "    </tr>\n",
       "    <tr>\n",
       "      <th>1080</th>\n",
       "      <td>124</td>\n",
       "      <td>SYMPTOMS when U are in love: \"1.U like listeni...</td>\n",
       "      <td>Non-Spam</td>\n",
       "    </tr>\n",
       "    <tr>\n",
       "      <th>1081</th>\n",
       "      <td>125</td>\n",
       "      <td>Great. Have a safe trip. Dont panic surrender ...</td>\n",
       "      <td>Non-Spam</td>\n",
       "    </tr>\n",
       "  </tbody>\n",
       "</table>\n",
       "<p>1082 rows × 3 columns</p>\n",
       "</div>"
      ],
      "text/plain": [
       "      S. No.                                       Message_body     Label\n",
       "0          1                         Rofl. Its true to its name  Non-Spam\n",
       "1          2  The guy did some bitching but I acted like i'd...  Non-Spam\n",
       "2          3  Pity, * was in mood for that. So...any other s...  Non-Spam\n",
       "3          4               Will ü b going to esplanade fr home?  Non-Spam\n",
       "4          5  This is the 2nd time we have tried 2 contact u...      Spam\n",
       "...      ...                                                ...       ...\n",
       "1077     121  7 wonders in My WORLD 7th You 6th Ur style 5th...  Non-Spam\n",
       "1078     122  Try to do something dear. You read something f...  Non-Spam\n",
       "1079     123  Sun ah... Thk mayb can if dun have anythin on....  Non-Spam\n",
       "1080     124  SYMPTOMS when U are in love: \"1.U like listeni...  Non-Spam\n",
       "1081     125  Great. Have a safe trip. Dont panic surrender ...  Non-Spam\n",
       "\n",
       "[1082 rows x 3 columns]"
      ]
     },
     "execution_count": 90,
     "metadata": {},
     "output_type": "execute_result"
    }
   ],
   "source": [
    "df=pd.concat([df1,df2],ignore_index=True,axis=0)\n",
    "df"
   ]
  },
  {
   "cell_type": "code",
   "execution_count": 91,
   "metadata": {},
   "outputs": [
    {
     "data": {
      "text/html": [
       "<div>\n",
       "<style scoped>\n",
       "    .dataframe tbody tr th:only-of-type {\n",
       "        vertical-align: middle;\n",
       "    }\n",
       "\n",
       "    .dataframe tbody tr th {\n",
       "        vertical-align: top;\n",
       "    }\n",
       "\n",
       "    .dataframe thead th {\n",
       "        text-align: right;\n",
       "    }\n",
       "</style>\n",
       "<table border=\"1\" class=\"dataframe\">\n",
       "  <thead>\n",
       "    <tr style=\"text-align: right;\">\n",
       "      <th></th>\n",
       "      <th>S. No.</th>\n",
       "      <th>Message_body</th>\n",
       "      <th>Label</th>\n",
       "    </tr>\n",
       "  </thead>\n",
       "  <tbody>\n",
       "    <tr>\n",
       "      <th>0</th>\n",
       "      <td>1</td>\n",
       "      <td>Rofl. Its true to its name</td>\n",
       "      <td>Non-Spam</td>\n",
       "    </tr>\n",
       "    <tr>\n",
       "      <th>1</th>\n",
       "      <td>2</td>\n",
       "      <td>The guy did some bitching but I acted like i'd...</td>\n",
       "      <td>Non-Spam</td>\n",
       "    </tr>\n",
       "    <tr>\n",
       "      <th>2</th>\n",
       "      <td>3</td>\n",
       "      <td>Pity, * was in mood for that. So...any other s...</td>\n",
       "      <td>Non-Spam</td>\n",
       "    </tr>\n",
       "    <tr>\n",
       "      <th>3</th>\n",
       "      <td>4</td>\n",
       "      <td>Will ü b going to esplanade fr home?</td>\n",
       "      <td>Non-Spam</td>\n",
       "    </tr>\n",
       "    <tr>\n",
       "      <th>4</th>\n",
       "      <td>5</td>\n",
       "      <td>This is the 2nd time we have tried 2 contact u...</td>\n",
       "      <td>Spam</td>\n",
       "    </tr>\n",
       "  </tbody>\n",
       "</table>\n",
       "</div>"
      ],
      "text/plain": [
       "   S. No.                                       Message_body     Label\n",
       "0       1                         Rofl. Its true to its name  Non-Spam\n",
       "1       2  The guy did some bitching but I acted like i'd...  Non-Spam\n",
       "2       3  Pity, * was in mood for that. So...any other s...  Non-Spam\n",
       "3       4               Will ü b going to esplanade fr home?  Non-Spam\n",
       "4       5  This is the 2nd time we have tried 2 contact u...      Spam"
      ]
     },
     "execution_count": 91,
     "metadata": {},
     "output_type": "execute_result"
    }
   ],
   "source": [
    "df.head()"
   ]
  },
  {
   "cell_type": "code",
   "execution_count": 92,
   "metadata": {},
   "outputs": [
    {
     "data": {
      "text/html": [
       "<div>\n",
       "<style scoped>\n",
       "    .dataframe tbody tr th:only-of-type {\n",
       "        vertical-align: middle;\n",
       "    }\n",
       "\n",
       "    .dataframe tbody tr th {\n",
       "        vertical-align: top;\n",
       "    }\n",
       "\n",
       "    .dataframe thead th {\n",
       "        text-align: right;\n",
       "    }\n",
       "</style>\n",
       "<table border=\"1\" class=\"dataframe\">\n",
       "  <thead>\n",
       "    <tr style=\"text-align: right;\">\n",
       "      <th></th>\n",
       "      <th>S. No.</th>\n",
       "      <th>Message_body</th>\n",
       "      <th>Label</th>\n",
       "    </tr>\n",
       "  </thead>\n",
       "  <tbody>\n",
       "    <tr>\n",
       "      <th>1077</th>\n",
       "      <td>121</td>\n",
       "      <td>7 wonders in My WORLD 7th You 6th Ur style 5th...</td>\n",
       "      <td>Non-Spam</td>\n",
       "    </tr>\n",
       "    <tr>\n",
       "      <th>1078</th>\n",
       "      <td>122</td>\n",
       "      <td>Try to do something dear. You read something f...</td>\n",
       "      <td>Non-Spam</td>\n",
       "    </tr>\n",
       "    <tr>\n",
       "      <th>1079</th>\n",
       "      <td>123</td>\n",
       "      <td>Sun ah... Thk mayb can if dun have anythin on....</td>\n",
       "      <td>Non-Spam</td>\n",
       "    </tr>\n",
       "    <tr>\n",
       "      <th>1080</th>\n",
       "      <td>124</td>\n",
       "      <td>SYMPTOMS when U are in love: \"1.U like listeni...</td>\n",
       "      <td>Non-Spam</td>\n",
       "    </tr>\n",
       "    <tr>\n",
       "      <th>1081</th>\n",
       "      <td>125</td>\n",
       "      <td>Great. Have a safe trip. Dont panic surrender ...</td>\n",
       "      <td>Non-Spam</td>\n",
       "    </tr>\n",
       "  </tbody>\n",
       "</table>\n",
       "</div>"
      ],
      "text/plain": [
       "      S. No.                                       Message_body     Label\n",
       "1077     121  7 wonders in My WORLD 7th You 6th Ur style 5th...  Non-Spam\n",
       "1078     122  Try to do something dear. You read something f...  Non-Spam\n",
       "1079     123  Sun ah... Thk mayb can if dun have anythin on....  Non-Spam\n",
       "1080     124  SYMPTOMS when U are in love: \"1.U like listeni...  Non-Spam\n",
       "1081     125  Great. Have a safe trip. Dont panic surrender ...  Non-Spam"
      ]
     },
     "execution_count": 92,
     "metadata": {},
     "output_type": "execute_result"
    }
   ],
   "source": [
    "df.tail()"
   ]
  },
  {
   "cell_type": "code",
   "execution_count": 93,
   "metadata": {},
   "outputs": [
    {
     "data": {
      "text/plain": [
       "(1082, 3)"
      ]
     },
     "execution_count": 93,
     "metadata": {},
     "output_type": "execute_result"
    }
   ],
   "source": [
    "df.shape"
   ]
  },
  {
   "cell_type": "code",
   "execution_count": 94,
   "metadata": {},
   "outputs": [
    {
     "data": {
      "text/plain": [
       "S. No.           int64\n",
       "Message_body    object\n",
       "Label           object\n",
       "dtype: object"
      ]
     },
     "execution_count": 94,
     "metadata": {},
     "output_type": "execute_result"
    }
   ],
   "source": [
    "df.dtypes"
   ]
  },
  {
   "cell_type": "code",
   "execution_count": 95,
   "metadata": {},
   "outputs": [
    {
     "data": {
      "text/plain": [
       "S. No.          0\n",
       "Message_body    0\n",
       "Label           0\n",
       "dtype: int64"
      ]
     },
     "execution_count": 95,
     "metadata": {},
     "output_type": "execute_result"
    }
   ],
   "source": [
    "df.isna().sum()"
   ]
  },
  {
   "cell_type": "code",
   "execution_count": 96,
   "metadata": {},
   "outputs": [
    {
     "data": {
      "text/plain": [
       "Label\n",
       "Non-Spam    884\n",
       "Spam        198\n",
       "Name: count, dtype: int64"
      ]
     },
     "execution_count": 96,
     "metadata": {},
     "output_type": "execute_result"
    }
   ],
   "source": [
    "v1=df['Label'].value_counts()\n",
    "v1"
   ]
  },
  {
   "cell_type": "code",
   "execution_count": 97,
   "metadata": {},
   "outputs": [
    {
     "data": {
      "text/plain": [
       "Text(0.5, 1.0, 'Spam-Nonspam counts')"
      ]
     },
     "execution_count": 97,
     "metadata": {},
     "output_type": "execute_result"
    },
    {
     "data": {
      "image/png": "[encoded data removed]",
      "text/plain": [
       "<Figure size 640x480 with 1 Axes>"
      ]
     },
     "metadata": {},
     "output_type": "display_data"
    }
   ],
   "source": [
    "plt.bar(v1.index,v1.values,color='orange')\n",
    "plt.title('Spam-Nonspam counts')"
   ]
  },
  {
   "cell_type": "code",
   "execution_count": 98,
   "metadata": {},
   "outputs": [
    {
     "data": {
      "text/html": [
       "<div>\n",
       "<style scoped>\n",
       "    .dataframe tbody tr th:only-of-type {\n",
       "        vertical-align: middle;\n",
       "    }\n",
       "\n",
       "    .dataframe tbody tr th {\n",
       "        vertical-align: top;\n",
       "    }\n",
       "\n",
       "    .dataframe thead th {\n",
       "        text-align: right;\n",
       "    }\n",
       "</style>\n",
       "<table border=\"1\" class=\"dataframe\">\n",
       "  <thead>\n",
       "    <tr style=\"text-align: right;\">\n",
       "      <th></th>\n",
       "      <th>Message_body</th>\n",
       "      <th>Label</th>\n",
       "    </tr>\n",
       "  </thead>\n",
       "  <tbody>\n",
       "    <tr>\n",
       "      <th>0</th>\n",
       "      <td>Rofl. Its true to its name</td>\n",
       "      <td>Non-Spam</td>\n",
       "    </tr>\n",
       "    <tr>\n",
       "      <th>1</th>\n",
       "      <td>The guy did some bitching but I acted like i'd...</td>\n",
       "      <td>Non-Spam</td>\n",
       "    </tr>\n",
       "    <tr>\n",
       "      <th>2</th>\n",
       "      <td>Pity, * was in mood for that. So...any other s...</td>\n",
       "      <td>Non-Spam</td>\n",
       "    </tr>\n",
       "    <tr>\n",
       "      <th>3</th>\n",
       "      <td>Will ü b going to esplanade fr home?</td>\n",
       "      <td>Non-Spam</td>\n",
       "    </tr>\n",
       "    <tr>\n",
       "      <th>4</th>\n",
       "      <td>This is the 2nd time we have tried 2 contact u...</td>\n",
       "      <td>Spam</td>\n",
       "    </tr>\n",
       "    <tr>\n",
       "      <th>...</th>\n",
       "      <td>...</td>\n",
       "      <td>...</td>\n",
       "    </tr>\n",
       "    <tr>\n",
       "      <th>1077</th>\n",
       "      <td>7 wonders in My WORLD 7th You 6th Ur style 5th...</td>\n",
       "      <td>Non-Spam</td>\n",
       "    </tr>\n",
       "    <tr>\n",
       "      <th>1078</th>\n",
       "      <td>Try to do something dear. You read something f...</td>\n",
       "      <td>Non-Spam</td>\n",
       "    </tr>\n",
       "    <tr>\n",
       "      <th>1079</th>\n",
       "      <td>Sun ah... Thk mayb can if dun have anythin on....</td>\n",
       "      <td>Non-Spam</td>\n",
       "    </tr>\n",
       "    <tr>\n",
       "      <th>1080</th>\n",
       "      <td>SYMPTOMS when U are in love: \"1.U like listeni...</td>\n",
       "      <td>Non-Spam</td>\n",
       "    </tr>\n",
       "    <tr>\n",
       "      <th>1081</th>\n",
       "      <td>Great. Have a safe trip. Dont panic surrender ...</td>\n",
       "      <td>Non-Spam</td>\n",
       "    </tr>\n",
       "  </tbody>\n",
       "</table>\n",
       "<p>1082 rows × 2 columns</p>\n",
       "</div>"
      ],
      "text/plain": [
       "                                           Message_body     Label\n",
       "0                            Rofl. Its true to its name  Non-Spam\n",
       "1     The guy did some bitching but I acted like i'd...  Non-Spam\n",
       "2     Pity, * was in mood for that. So...any other s...  Non-Spam\n",
       "3                  Will ü b going to esplanade fr home?  Non-Spam\n",
       "4     This is the 2nd time we have tried 2 contact u...      Spam\n",
       "...                                                 ...       ...\n",
       "1077  7 wonders in My WORLD 7th You 6th Ur style 5th...  Non-Spam\n",
       "1078  Try to do something dear. You read something f...  Non-Spam\n",
       "1079  Sun ah... Thk mayb can if dun have anythin on....  Non-Spam\n",
       "1080  SYMPTOMS when U are in love: \"1.U like listeni...  Non-Spam\n",
       "1081  Great. Have a safe trip. Dont panic surrender ...  Non-Spam\n",
       "\n",
       "[1082 rows x 2 columns]"
      ]
     },
     "execution_count": 98,
     "metadata": {},
     "output_type": "execute_result"
    }
   ],
   "source": [
    "df.drop(['S. No.'],axis=1,inplace=True)\n",
    "df"
   ]
  },
  {
   "cell_type": "code",
   "execution_count": 99,
   "metadata": {},
   "outputs": [
    {
     "data": {
      "text/html": [
       "<div>\n",
       "<style scoped>\n",
       "    .dataframe tbody tr th:only-of-type {\n",
       "        vertical-align: middle;\n",
       "    }\n",
       "\n",
       "    .dataframe tbody tr th {\n",
       "        vertical-align: top;\n",
       "    }\n",
       "\n",
       "    .dataframe thead th {\n",
       "        text-align: right;\n",
       "    }\n",
       "</style>\n",
       "<table border=\"1\" class=\"dataframe\">\n",
       "  <thead>\n",
       "    <tr style=\"text-align: right;\">\n",
       "      <th></th>\n",
       "      <th>Message_body</th>\n",
       "      <th>Label</th>\n",
       "    </tr>\n",
       "  </thead>\n",
       "  <tbody>\n",
       "    <tr>\n",
       "      <th>0</th>\n",
       "      <td>Rofl. Its true to its name</td>\n",
       "      <td>0</td>\n",
       "    </tr>\n",
       "    <tr>\n",
       "      <th>1</th>\n",
       "      <td>The guy did some bitching but I acted like i'd...</td>\n",
       "      <td>0</td>\n",
       "    </tr>\n",
       "    <tr>\n",
       "      <th>2</th>\n",
       "      <td>Pity, * was in mood for that. So...any other s...</td>\n",
       "      <td>0</td>\n",
       "    </tr>\n",
       "    <tr>\n",
       "      <th>3</th>\n",
       "      <td>Will ü b going to esplanade fr home?</td>\n",
       "      <td>0</td>\n",
       "    </tr>\n",
       "    <tr>\n",
       "      <th>4</th>\n",
       "      <td>This is the 2nd time we have tried 2 contact u...</td>\n",
       "      <td>1</td>\n",
       "    </tr>\n",
       "    <tr>\n",
       "      <th>...</th>\n",
       "      <td>...</td>\n",
       "      <td>...</td>\n",
       "    </tr>\n",
       "    <tr>\n",
       "      <th>1077</th>\n",
       "      <td>7 wonders in My WORLD 7th You 6th Ur style 5th...</td>\n",
       "      <td>0</td>\n",
       "    </tr>\n",
       "    <tr>\n",
       "      <th>1078</th>\n",
       "      <td>Try to do something dear. You read something f...</td>\n",
       "      <td>0</td>\n",
       "    </tr>\n",
       "    <tr>\n",
       "      <th>1079</th>\n",
       "      <td>Sun ah... Thk mayb can if dun have anythin on....</td>\n",
       "      <td>0</td>\n",
       "    </tr>\n",
       "    <tr>\n",
       "      <th>1080</th>\n",
       "      <td>SYMPTOMS when U are in love: \"1.U like listeni...</td>\n",
       "      <td>0</td>\n",
       "    </tr>\n",
       "    <tr>\n",
       "      <th>1081</th>\n",
       "      <td>Great. Have a safe trip. Dont panic surrender ...</td>\n",
       "      <td>0</td>\n",
       "    </tr>\n",
       "  </tbody>\n",
       "</table>\n",
       "<p>1082 rows × 2 columns</p>\n",
       "</div>"
      ],
      "text/plain": [
       "                                           Message_body  Label\n",
       "0                            Rofl. Its true to its name      0\n",
       "1     The guy did some bitching but I acted like i'd...      0\n",
       "2     Pity, * was in mood for that. So...any other s...      0\n",
       "3                  Will ü b going to esplanade fr home?      0\n",
       "4     This is the 2nd time we have tried 2 contact u...      1\n",
       "...                                                 ...    ...\n",
       "1077  7 wonders in My WORLD 7th You 6th Ur style 5th...      0\n",
       "1078  Try to do something dear. You read something f...      0\n",
       "1079  Sun ah... Thk mayb can if dun have anythin on....      0\n",
       "1080  SYMPTOMS when U are in love: \"1.U like listeni...      0\n",
       "1081  Great. Have a safe trip. Dont panic surrender ...      0\n",
       "\n",
       "[1082 rows x 2 columns]"
      ]
     },
     "execution_count": 99,
     "metadata": {},
     "output_type": "execute_result"
    }
   ],
   "source": [
    "#assigning numerical values to target column\n",
    "\n",
    "df['Label']=df['Label'].map({'Non-Spam':0,'Spam':1})\n",
    "df"
   ]
  },
  {
   "cell_type": "code",
   "execution_count": 100,
   "metadata": {},
   "outputs": [
    {
     "name": "stderr",
     "output_type": "stream",
     "text": [
      "[nltk_data] Downloading package stopwords to\n",
      "[nltk_data]     C:\\Users\\DELL\\AppData\\Roaming\\nltk_data...\n",
      "[nltk_data]   Package stopwords is already up-to-date!\n",
      "[nltk_data] Downloading package punkt_tab to\n",
      "[nltk_data]     C:\\Users\\DELL\\AppData\\Roaming\\nltk_data...\n",
      "[nltk_data]   Package punkt_tab is already up-to-date!\n",
      "[nltk_data] Downloading package wordnet to\n",
      "[nltk_data]     C:\\Users\\DELL\\AppData\\Roaming\\nltk_data...\n",
      "[nltk_data]   Package wordnet is already up-to-date!\n",
      "[nltk_data] Downloading package omw-1.4 to\n",
      "[nltk_data]     C:\\Users\\DELL\\AppData\\Roaming\\nltk_data...\n",
      "[nltk_data]   Package omw-1.4 is already up-to-date!\n"
     ]
    },
    {
     "data": {
      "text/plain": [
       "True"
      ]
     },
     "execution_count": 100,
     "metadata": {},
     "output_type": "execute_result"
    }
   ],
   "source": [
    "#nlp\n",
    "\n",
    "nltk.download('stopwords')\n",
    "nltk.download('punkt_tab')\n",
    "nltk.download('wordnet')\n",
    "nltk.download('omw-1.4')"
   ]
  },
  {
   "cell_type": "code",
   "execution_count": 101,
   "metadata": {},
   "outputs": [
    {
     "data": {
      "text/plain": [
       "0                              Rofl. Its true to its name\n",
       "1       The guy did some bitching but I acted like i'd...\n",
       "2       Pity, * was in mood for that. So...any other s...\n",
       "3                    Will ü b going to esplanade fr home?\n",
       "4       This is the 2nd time we have tried 2 contact u...\n",
       "                              ...                        \n",
       "1077    7 wonders in My WORLD 7th You 6th Ur style 5th...\n",
       "1078    Try to do something dear. You read something f...\n",
       "1079    Sun ah... Thk mayb can if dun have anythin on....\n",
       "1080    SYMPTOMS when U are in love: \"1.U like listeni...\n",
       "1081    Great. Have a safe trip. Dont panic surrender ...\n",
       "Name: Message_body, Length: 1082, dtype: object"
      ]
     },
     "execution_count": 101,
     "metadata": {},
     "output_type": "execute_result"
    }
   ],
   "source": [
    "sms=df['Message_body']\n",
    "sms"
   ]
  },
  {
   "cell_type": "code",
   "execution_count": 102,
   "metadata": {},
   "outputs": [
    {
     "data": {
      "text/plain": [
       "0                             Rofl . Its true to its name\n",
       "1       The guy did some bitching but I acted like i'd...\n",
       "2       Pity , * was in mood for that . So ... any oth...\n",
       "3                   Will ü b going to esplanade fr home ?\n",
       "4       This is the 2nd time we have tried 2 contact u...\n",
       "                              ...                        \n",
       "1077    7 wonders in My WORLD 7th You 6th Ur style 5th...\n",
       "1078    Try to do something dear . You read something ...\n",
       "1079    Sun ah ... Thk mayb can if dun have anythin on...\n",
       "1080    SYMPTOMS when U are in love : \" 1 . U like lis...\n",
       "1081    Great . Have a safe trip . Dont panic surrende...\n",
       "Name: Message_body, Length: 1082, dtype: object"
      ]
     },
     "execution_count": 102,
     "metadata": {},
     "output_type": "execute_result"
    }
   ],
   "source": [
    "#Tokenization\n",
    "\n",
    "from nltk.tokenize import TweetTokenizer\n",
    "tk=TweetTokenizer()\n",
    "sms=sms.apply(lambda x:tk.tokenize(x)).apply(lambda x:' '.join(x))\n",
    "sms"
   ]
  },
  {
   "cell_type": "code",
   "execution_count": 103,
   "metadata": {},
   "outputs": [
    {
     "data": {
      "text/plain": [
       "0                             Rofl   Its true to its name\n",
       "1       The guy did some bitching but I acted like i d...\n",
       "2       Pity     was in mood for that   So     any oth...\n",
       "3                   Will   b going to esplanade fr home  \n",
       "4       This is the 2nd time we have tried 2 contact u...\n",
       "                              ...                        \n",
       "1077    7 wonders in My WORLD 7th You 6th Ur style 5th...\n",
       "1078    Try to do something dear   You read something ...\n",
       "1079    Sun ah     Thk mayb can if dun have anythin on...\n",
       "1080    SYMPTOMS when U are in love     1   U like lis...\n",
       "1081    Great   Have a safe trip   Dont panic surrende...\n",
       "Name: Message_body, Length: 1082, dtype: object"
      ]
     },
     "execution_count": 103,
     "metadata": {},
     "output_type": "execute_result"
    }
   ],
   "source": [
    "#remove special characters\n",
    "\n",
    "sms=sms.str.replace('[^A-Za-z0-9]',' ',regex=True)\n",
    "sms"
   ]
  },
  {
   "cell_type": "code",
   "execution_count": 104,
   "metadata": {},
   "outputs": [
    {
     "data": {
      "text/plain": [
       "0                                  Rofl Its true its name\n",
       "1       The guy did some bitching but acted like inter...\n",
       "2            Pity was mood for that any other suggestions\n",
       "3                               Will going esplanade home\n",
       "4       This the 2nd time have tried contact have won ...\n",
       "                              ...                        \n",
       "1077    wonders WORLD 7th You 6th style 5th smile 4th ...\n",
       "1078      Try something dear You read something for exams\n",
       "1079    Sun Thk mayb can dun have anythin Thk have boo...\n",
       "1080    SYMPTOMS when are love like listening songs ge...\n",
       "1081        Great Have safe trip Dont panic surrender all\n",
       "Name: Message_body, Length: 1082, dtype: object"
      ]
     },
     "execution_count": 104,
     "metadata": {},
     "output_type": "execute_result"
    }
   ],
   "source": [
    "#len above 3 words\n",
    "\n",
    "sms=sms.apply(lambda x:' '.join([w for w in tk.tokenize(x) if len(w)>=3]))\n",
    "sms"
   ]
  },
  {
   "cell_type": "code",
   "execution_count": 105,
   "metadata": {},
   "outputs": [
    {
     "data": {
      "text/plain": [
       "0                                    rofl it true it name\n",
       "1       the guy did some bitch but act like interest b...\n",
       "2                piti was mood for that ani other suggest\n",
       "3                                   will go esplanad home\n",
       "4       this the 2nd time have tri contact have won th...\n",
       "                              ...                        \n",
       "1077    wonder world 7th you 6th style 5th smile 4th p...\n",
       "1078             tri someth dear you read someth for exam\n",
       "1079    sun thk mayb can dun have anythin thk have boo...\n",
       "1080    symptom when are love like listen song get sto...\n",
       "1081          great have safe trip dont panic surrend all\n",
       "Name: Message_body, Length: 1082, dtype: object"
      ]
     },
     "execution_count": 105,
     "metadata": {},
     "output_type": "execute_result"
    }
   ],
   "source": [
    "#stemming\n",
    "\n",
    "from nltk.stem import SnowballStemmer\n",
    "stemmer=SnowballStemmer('english')\n",
    "sms=sms.apply(lambda x:[stemmer.stem(i.lower()) for i in tk.tokenize(x)]).apply(lambda x:' '.join(x))\n",
    "sms"
   ]
  },
  {
   "cell_type": "code",
   "execution_count": 106,
   "metadata": {},
   "outputs": [
    {
     "data": {
      "text/plain": [
       "0                                          rofl true name\n",
       "1       guy bitch act like interest buy someth els nex...\n",
       "2                                   piti mood ani suggest\n",
       "3                                        go esplanad home\n",
       "4       2nd time tri contact 750 pound prize claim eas...\n",
       "                              ...                        \n",
       "1077    wonder world 7th 6th style 5th smile 4th perso...\n",
       "1078                     tri someth dear read someth exam\n",
       "1079    sun thk mayb dun anythin thk book lesson pilat...\n",
       "1080    symptom love like listen song get stop see nam...\n",
       "1081                   great safe trip dont panic surrend\n",
       "Name: Message_body, Length: 1082, dtype: object"
      ]
     },
     "execution_count": 106,
     "metadata": {},
     "output_type": "execute_result"
    }
   ],
   "source": [
    "#tokens without stopwords\n",
    "\n",
    "from nltk.corpus import stopwords\n",
    "stp=stopwords.words('english')\n",
    "\n",
    "sms=sms.apply(lambda x:[i for i in tk.tokenize(x) if i not in stp]).apply(lambda x:' '.join(x))\n",
    "sms"
   ]
  },
  {
   "cell_type": "code",
   "execution_count": 107,
   "metadata": {},
   "outputs": [
    {
     "data": {
      "text/plain": [
       "<1082x2854 sparse matrix of type '<class 'numpy.float64'>'\n",
       "\twith 8924 stored elements in Compressed Sparse Row format>"
      ]
     },
     "execution_count": 107,
     "metadata": {},
     "output_type": "execute_result"
    }
   ],
   "source": [
    "#Vectorization\n",
    "\n",
    "from sklearn.feature_extraction.text import TfidfVectorizer\n",
    "vec=TfidfVectorizer()\n",
    "\n",
    "data=vec.fit_transform(sms)\n",
    "data"
   ]
  },
  {
   "cell_type": "code",
   "execution_count": 108,
   "metadata": {},
   "outputs": [
    {
     "data": {
      "text/plain": [
       "array([0, 0, 0, ..., 0, 0, 0], dtype=int64)"
      ]
     },
     "execution_count": 108,
     "metadata": {},
     "output_type": "execute_result"
    }
   ],
   "source": [
    "y=df['Label'].values\n",
    "y"
   ]
  },
  {
   "cell_type": "code",
   "execution_count": 109,
   "metadata": {},
   "outputs": [
    {
     "data": {
      "text/plain": [
       "<757x2854 sparse matrix of type '<class 'numpy.float64'>'\n",
       "\twith 6304 stored elements in Compressed Sparse Row format>"
      ]
     },
     "execution_count": 109,
     "metadata": {},
     "output_type": "execute_result"
    }
   ],
   "source": [
    "from sklearn.model_selection import train_test_split\n",
    "x_train,x_test,y_train,y_test=train_test_split(data,y,test_size=0.30,random_state=42)\n",
    "x_train"
   ]
  },
  {
   "cell_type": "code",
   "execution_count": 110,
   "metadata": {},
   "outputs": [],
   "source": [
    "#Classification\n",
    "\n",
    "from sklearn.neighbors import KNeighborsClassifier\n",
    "from sklearn.naive_bayes import BernoulliNB\n",
    "from sklearn.ensemble import RandomForestClassifier\n",
    "from sklearn.svm import SVC\n",
    "from sklearn.metrics import confusion_matrix,accuracy_score,classification_report\n",
    "\n",
    "knn=KNeighborsClassifier(n_neighbors=7)\n",
    "nb=BernoulliNB()\n",
    "svm=SVC()\n",
    "rf=RandomForestClassifier()\n",
    "\n",
    "lst=[knn,nb,svm,rf]"
   ]
  },
  {
   "cell_type": "code",
   "execution_count": 111,
   "metadata": {},
   "outputs": [
    {
     "name": "stdout",
     "output_type": "stream",
     "text": [
      "Model name is ** KNeighborsClassifier(n_neighbors=7) **\n",
      "****************************************************************************************************\n",
      "[[269   0]\n",
      " [ 54   2]]\n",
      "****************************************************************************************************\n",
      "0.8338461538461538\n",
      "****************************************************************************************************\n",
      "              precision    recall  f1-score   support\n",
      "\n",
      "           0       0.83      1.00      0.91       269\n",
      "           1       1.00      0.04      0.07        56\n",
      "\n",
      "    accuracy                           0.83       325\n",
      "   macro avg       0.92      0.52      0.49       325\n",
      "weighted avg       0.86      0.83      0.76       325\n",
      "\n",
      "Model name is ** BernoulliNB() **\n",
      "****************************************************************************************************\n",
      "[[268   1]\n",
      " [ 13  43]]\n",
      "****************************************************************************************************\n",
      "0.9569230769230769\n",
      "****************************************************************************************************\n",
      "              precision    recall  f1-score   support\n",
      "\n",
      "           0       0.95      1.00      0.97       269\n",
      "           1       0.98      0.77      0.86        56\n",
      "\n",
      "    accuracy                           0.96       325\n",
      "   macro avg       0.97      0.88      0.92       325\n",
      "weighted avg       0.96      0.96      0.95       325\n",
      "\n",
      "Model name is ** SVC() **\n",
      "****************************************************************************************************\n",
      "[[268   1]\n",
      " [ 24  32]]\n",
      "****************************************************************************************************\n",
      "0.9230769230769231\n",
      "****************************************************************************************************\n",
      "              precision    recall  f1-score   support\n",
      "\n",
      "           0       0.92      1.00      0.96       269\n",
      "           1       0.97      0.57      0.72        56\n",
      "\n",
      "    accuracy                           0.92       325\n",
      "   macro avg       0.94      0.78      0.84       325\n",
      "weighted avg       0.93      0.92      0.91       325\n",
      "\n",
      "Model name is ** RandomForestClassifier() **\n",
      "****************************************************************************************************\n",
      "[[269   0]\n",
      " [ 16  40]]\n",
      "****************************************************************************************************\n",
      "0.9507692307692308\n",
      "****************************************************************************************************\n",
      "              precision    recall  f1-score   support\n",
      "\n",
      "           0       0.94      1.00      0.97       269\n",
      "           1       1.00      0.71      0.83        56\n",
      "\n",
      "    accuracy                           0.95       325\n",
      "   macro avg       0.97      0.86      0.90       325\n",
      "weighted avg       0.95      0.95      0.95       325\n",
      "\n"
     ]
    }
   ],
   "source": [
    "for i in lst:\n",
    "    print(\"Model name is **\",i,'**')\n",
    "    i.fit(x_train,y_train)\n",
    "    y_pred=i.predict(x_test)\n",
    "    print('*'*100)\n",
    "    cm=confusion_matrix(y_test,y_pred)\n",
    "    print(cm)\n",
    "    print('*'*100)\n",
    "    sc=accuracy_score(y_test,y_pred)\n",
    "    print(sc)\n",
    "    print('*'*100)\n",
    "    rep=classification_report(y_test,y_pred)\n",
    "    print(rep)"
   ]
  }
 ],
 "metadata": {
  "kernelspec": {
   "display_name": "Python 3",
   "language": "python",
   "name": "python3"
  },
  "language_info": {
   "codemirror_mode": {
    "name": "ipython",
    "version": 3
   },
   "file_extension": ".py",
   "mimetype": "text/x-python",
   "name": "python",
   "nbconvert_exporter": "python",
   "pygments_lexer": "ipython3",
   "version": "3.8.0"
  }
 },
 "nbformat": 4,
 "nbformat_minor": 2
}
