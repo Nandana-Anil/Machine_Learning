{
 "cells": [
  {
   "cell_type": "code",
   "execution_count": 172,
   "metadata": {},
   "outputs": [],
   "source": [
    "import numpy as np \n",
    "import pandas as pd \n",
    "import re\n",
    "import nltk\n",
    "import seaborn as sb\n",
    "import matplotlib.pyplot as plt"
   ]
  },
  {
   "cell_type": "code",
   "execution_count": 173,
   "metadata": {},
   "outputs": [
    {
     "data": {
      "text/html": [
       "<div>\n",
       "<style scoped>\n",
       "    .dataframe tbody tr th:only-of-type {\n",
       "        vertical-align: middle;\n",
       "    }\n",
       "\n",
       "    .dataframe tbody tr th {\n",
       "        vertical-align: top;\n",
       "    }\n",
       "\n",
       "    .dataframe thead th {\n",
       "        text-align: right;\n",
       "    }\n",
       "</style>\n",
       "<table border=\"1\" class=\"dataframe\">\n",
       "  <thead>\n",
       "    <tr style=\"text-align: right;\">\n",
       "      <th></th>\n",
       "      <th>id</th>\n",
       "      <th>social</th>\n",
       "      <th>target</th>\n",
       "      <th>text</th>\n",
       "    </tr>\n",
       "  </thead>\n",
       "  <tbody>\n",
       "    <tr>\n",
       "      <th>0</th>\n",
       "      <td>3364</td>\n",
       "      <td>Facebook</td>\n",
       "      <td>Irrelevant</td>\n",
       "      <td>I mentioned on Facebook that I was struggling ...</td>\n",
       "    </tr>\n",
       "    <tr>\n",
       "      <th>1</th>\n",
       "      <td>352</td>\n",
       "      <td>Amazon</td>\n",
       "      <td>Neutral</td>\n",
       "      <td>BBC News - Amazon boss Jeff Bezos rejects clai...</td>\n",
       "    </tr>\n",
       "    <tr>\n",
       "      <th>2</th>\n",
       "      <td>8312</td>\n",
       "      <td>Microsoft</td>\n",
       "      <td>Negative</td>\n",
       "      <td>@Microsoft Why do I pay for WORD when it funct...</td>\n",
       "    </tr>\n",
       "    <tr>\n",
       "      <th>3</th>\n",
       "      <td>4371</td>\n",
       "      <td>CS-GO</td>\n",
       "      <td>Negative</td>\n",
       "      <td>CSGO matchmaking is so full of closet hacking,...</td>\n",
       "    </tr>\n",
       "    <tr>\n",
       "      <th>4</th>\n",
       "      <td>4433</td>\n",
       "      <td>Google</td>\n",
       "      <td>Neutral</td>\n",
       "      <td>Now the President is slapping Americans in the...</td>\n",
       "    </tr>\n",
       "    <tr>\n",
       "      <th>...</th>\n",
       "      <td>...</td>\n",
       "      <td>...</td>\n",
       "      <td>...</td>\n",
       "      <td>...</td>\n",
       "    </tr>\n",
       "    <tr>\n",
       "      <th>995</th>\n",
       "      <td>4891</td>\n",
       "      <td>GrandTheftAuto(GTA)</td>\n",
       "      <td>Irrelevant</td>\n",
       "      <td>â­ï¸ Toronto is the arts and culture capital...</td>\n",
       "    </tr>\n",
       "    <tr>\n",
       "      <th>996</th>\n",
       "      <td>4359</td>\n",
       "      <td>CS-GO</td>\n",
       "      <td>Irrelevant</td>\n",
       "      <td>tHIS IS ACTUALLY A GOOD MOVE TOT BRING MORE VI...</td>\n",
       "    </tr>\n",
       "    <tr>\n",
       "      <th>997</th>\n",
       "      <td>2652</td>\n",
       "      <td>Borderlands</td>\n",
       "      <td>Positive</td>\n",
       "      <td>Today sucked so itâs time to drink wine n pl...</td>\n",
       "    </tr>\n",
       "    <tr>\n",
       "      <th>998</th>\n",
       "      <td>8069</td>\n",
       "      <td>Microsoft</td>\n",
       "      <td>Positive</td>\n",
       "      <td>Bought a fraction of Microsoft today. Small wins.</td>\n",
       "    </tr>\n",
       "    <tr>\n",
       "      <th>999</th>\n",
       "      <td>6960</td>\n",
       "      <td>johnson&amp;johnson</td>\n",
       "      <td>Neutral</td>\n",
       "      <td>Johnson &amp; Johnson to stop selling talc baby po...</td>\n",
       "    </tr>\n",
       "  </tbody>\n",
       "</table>\n",
       "<p>1000 rows × 4 columns</p>\n",
       "</div>"
      ],
      "text/plain": [
       "       id               social      target  \\\n",
       "0    3364             Facebook  Irrelevant   \n",
       "1     352               Amazon     Neutral   \n",
       "2    8312            Microsoft    Negative   \n",
       "3    4371                CS-GO    Negative   \n",
       "4    4433               Google     Neutral   \n",
       "..    ...                  ...         ...   \n",
       "995  4891  GrandTheftAuto(GTA)  Irrelevant   \n",
       "996  4359                CS-GO  Irrelevant   \n",
       "997  2652          Borderlands    Positive   \n",
       "998  8069            Microsoft    Positive   \n",
       "999  6960      johnson&johnson     Neutral   \n",
       "\n",
       "                                                  text  \n",
       "0    I mentioned on Facebook that I was struggling ...  \n",
       "1    BBC News - Amazon boss Jeff Bezos rejects clai...  \n",
       "2    @Microsoft Why do I pay for WORD when it funct...  \n",
       "3    CSGO matchmaking is so full of closet hacking,...  \n",
       "4    Now the President is slapping Americans in the...  \n",
       "..                                                 ...  \n",
       "995  â­ï¸ Toronto is the arts and culture capital...  \n",
       "996  tHIS IS ACTUALLY A GOOD MOVE TOT BRING MORE VI...  \n",
       "997  Today sucked so itâs time to drink wine n pl...  \n",
       "998  Bought a fraction of Microsoft today. Small wins.  \n",
       "999  Johnson & Johnson to stop selling talc baby po...  \n",
       "\n",
       "[1000 rows x 4 columns]"
      ]
     },
     "execution_count": 173,
     "metadata": {},
     "output_type": "execute_result"
    }
   ],
   "source": [
    "df=pd.read_csv('twitter_validation.csv',header=None,encoding='ISO-8859-1') #encoding because there are numbers and special characters like emojis\n",
    "df.columns=['id','social','target','text']\n",
    "df"
   ]
  },
  {
   "cell_type": "code",
   "execution_count": 174,
   "metadata": {},
   "outputs": [
    {
     "data": {
      "text/html": [
       "<div>\n",
       "<style scoped>\n",
       "    .dataframe tbody tr th:only-of-type {\n",
       "        vertical-align: middle;\n",
       "    }\n",
       "\n",
       "    .dataframe tbody tr th {\n",
       "        vertical-align: top;\n",
       "    }\n",
       "\n",
       "    .dataframe thead th {\n",
       "        text-align: right;\n",
       "    }\n",
       "</style>\n",
       "<table border=\"1\" class=\"dataframe\">\n",
       "  <thead>\n",
       "    <tr style=\"text-align: right;\">\n",
       "      <th></th>\n",
       "      <th>id</th>\n",
       "      <th>social</th>\n",
       "      <th>target</th>\n",
       "      <th>text</th>\n",
       "    </tr>\n",
       "  </thead>\n",
       "  <tbody>\n",
       "    <tr>\n",
       "      <th>0</th>\n",
       "      <td>3364</td>\n",
       "      <td>Facebook</td>\n",
       "      <td>Irrelevant</td>\n",
       "      <td>I mentioned on Facebook that I was struggling ...</td>\n",
       "    </tr>\n",
       "    <tr>\n",
       "      <th>1</th>\n",
       "      <td>352</td>\n",
       "      <td>Amazon</td>\n",
       "      <td>Neutral</td>\n",
       "      <td>BBC News - Amazon boss Jeff Bezos rejects clai...</td>\n",
       "    </tr>\n",
       "    <tr>\n",
       "      <th>2</th>\n",
       "      <td>8312</td>\n",
       "      <td>Microsoft</td>\n",
       "      <td>Negative</td>\n",
       "      <td>@Microsoft Why do I pay for WORD when it funct...</td>\n",
       "    </tr>\n",
       "    <tr>\n",
       "      <th>3</th>\n",
       "      <td>4371</td>\n",
       "      <td>CS-GO</td>\n",
       "      <td>Negative</td>\n",
       "      <td>CSGO matchmaking is so full of closet hacking,...</td>\n",
       "    </tr>\n",
       "    <tr>\n",
       "      <th>4</th>\n",
       "      <td>4433</td>\n",
       "      <td>Google</td>\n",
       "      <td>Neutral</td>\n",
       "      <td>Now the President is slapping Americans in the...</td>\n",
       "    </tr>\n",
       "  </tbody>\n",
       "</table>\n",
       "</div>"
      ],
      "text/plain": [
       "     id     social      target  \\\n",
       "0  3364   Facebook  Irrelevant   \n",
       "1   352     Amazon     Neutral   \n",
       "2  8312  Microsoft    Negative   \n",
       "3  4371      CS-GO    Negative   \n",
       "4  4433     Google     Neutral   \n",
       "\n",
       "                                                text  \n",
       "0  I mentioned on Facebook that I was struggling ...  \n",
       "1  BBC News - Amazon boss Jeff Bezos rejects clai...  \n",
       "2  @Microsoft Why do I pay for WORD when it funct...  \n",
       "3  CSGO matchmaking is so full of closet hacking,...  \n",
       "4  Now the President is slapping Americans in the...  "
      ]
     },
     "execution_count": 174,
     "metadata": {},
     "output_type": "execute_result"
    }
   ],
   "source": [
    "df.head()"
   ]
  },
  {
   "cell_type": "code",
   "execution_count": 175,
   "metadata": {},
   "outputs": [
    {
     "data": {
      "text/html": [
       "<div>\n",
       "<style scoped>\n",
       "    .dataframe tbody tr th:only-of-type {\n",
       "        vertical-align: middle;\n",
       "    }\n",
       "\n",
       "    .dataframe tbody tr th {\n",
       "        vertical-align: top;\n",
       "    }\n",
       "\n",
       "    .dataframe thead th {\n",
       "        text-align: right;\n",
       "    }\n",
       "</style>\n",
       "<table border=\"1\" class=\"dataframe\">\n",
       "  <thead>\n",
       "    <tr style=\"text-align: right;\">\n",
       "      <th></th>\n",
       "      <th>id</th>\n",
       "      <th>social</th>\n",
       "      <th>target</th>\n",
       "      <th>text</th>\n",
       "    </tr>\n",
       "  </thead>\n",
       "  <tbody>\n",
       "    <tr>\n",
       "      <th>995</th>\n",
       "      <td>4891</td>\n",
       "      <td>GrandTheftAuto(GTA)</td>\n",
       "      <td>Irrelevant</td>\n",
       "      <td>â­ï¸ Toronto is the arts and culture capital...</td>\n",
       "    </tr>\n",
       "    <tr>\n",
       "      <th>996</th>\n",
       "      <td>4359</td>\n",
       "      <td>CS-GO</td>\n",
       "      <td>Irrelevant</td>\n",
       "      <td>tHIS IS ACTUALLY A GOOD MOVE TOT BRING MORE VI...</td>\n",
       "    </tr>\n",
       "    <tr>\n",
       "      <th>997</th>\n",
       "      <td>2652</td>\n",
       "      <td>Borderlands</td>\n",
       "      <td>Positive</td>\n",
       "      <td>Today sucked so itâs time to drink wine n pl...</td>\n",
       "    </tr>\n",
       "    <tr>\n",
       "      <th>998</th>\n",
       "      <td>8069</td>\n",
       "      <td>Microsoft</td>\n",
       "      <td>Positive</td>\n",
       "      <td>Bought a fraction of Microsoft today. Small wins.</td>\n",
       "    </tr>\n",
       "    <tr>\n",
       "      <th>999</th>\n",
       "      <td>6960</td>\n",
       "      <td>johnson&amp;johnson</td>\n",
       "      <td>Neutral</td>\n",
       "      <td>Johnson &amp; Johnson to stop selling talc baby po...</td>\n",
       "    </tr>\n",
       "  </tbody>\n",
       "</table>\n",
       "</div>"
      ],
      "text/plain": [
       "       id               social      target  \\\n",
       "995  4891  GrandTheftAuto(GTA)  Irrelevant   \n",
       "996  4359                CS-GO  Irrelevant   \n",
       "997  2652          Borderlands    Positive   \n",
       "998  8069            Microsoft    Positive   \n",
       "999  6960      johnson&johnson     Neutral   \n",
       "\n",
       "                                                  text  \n",
       "995  â­ï¸ Toronto is the arts and culture capital...  \n",
       "996  tHIS IS ACTUALLY A GOOD MOVE TOT BRING MORE VI...  \n",
       "997  Today sucked so itâs time to drink wine n pl...  \n",
       "998  Bought a fraction of Microsoft today. Small wins.  \n",
       "999  Johnson & Johnson to stop selling talc baby po...  "
      ]
     },
     "execution_count": 175,
     "metadata": {},
     "output_type": "execute_result"
    }
   ],
   "source": [
    "df.tail()"
   ]
  },
  {
   "cell_type": "code",
   "execution_count": 176,
   "metadata": {},
   "outputs": [
    {
     "data": {
      "text/plain": [
       "id         int64\n",
       "social    object\n",
       "target    object\n",
       "text      object\n",
       "dtype: object"
      ]
     },
     "execution_count": 176,
     "metadata": {},
     "output_type": "execute_result"
    }
   ],
   "source": [
    "df.dtypes"
   ]
  },
  {
   "cell_type": "code",
   "execution_count": 177,
   "metadata": {},
   "outputs": [
    {
     "data": {
      "text/plain": [
       "(1000, 4)"
      ]
     },
     "execution_count": 177,
     "metadata": {},
     "output_type": "execute_result"
    }
   ],
   "source": [
    "df.shape"
   ]
  },
  {
   "cell_type": "code",
   "execution_count": 178,
   "metadata": {},
   "outputs": [
    {
     "data": {
      "text/plain": [
       "id        0\n",
       "social    0\n",
       "target    0\n",
       "text      0\n",
       "dtype: int64"
      ]
     },
     "execution_count": 178,
     "metadata": {},
     "output_type": "execute_result"
    }
   ],
   "source": [
    "df.isna().sum()"
   ]
  },
  {
   "cell_type": "code",
   "execution_count": 179,
   "metadata": {},
   "outputs": [],
   "source": [
    "v1=df['target'].value_counts()"
   ]
  },
  {
   "cell_type": "code",
   "execution_count": 180,
   "metadata": {},
   "outputs": [
    {
     "data": {
      "text/plain": [
       "Text(0.5, 1.0, 'Target value counts')"
      ]
     },
     "execution_count": 180,
     "metadata": {},
     "output_type": "execute_result"
    },
    {
     "data": {
      "image/png": "[encoded data removed]",
      "text/plain": [
       "<Figure size 640x480 with 1 Axes>"
      ]
     },
     "metadata": {},
     "output_type": "display_data"
    }
   ],
   "source": [
    "plt.bar(v1.index,v1.values,color='coral')\n",
    "plt.title('Target value counts')"
   ]
  },
  {
   "cell_type": "code",
   "execution_count": 181,
   "metadata": {},
   "outputs": [
    {
     "data": {
      "text/plain": [
       "social\n",
       "RedDeadRedemption(RDR)               40\n",
       "johnson&johnson                      39\n",
       "FIFA                                 38\n",
       "PlayerUnknownsBattlegrounds(PUBG)    38\n",
       "LeagueOfLegends                      37\n",
       "ApexLegends                          36\n",
       "TomClancysRainbowSix                 35\n",
       "Nvidia                               35\n",
       "GrandTheftAuto(GTA)                  35\n",
       "Amazon                               34\n",
       "Fortnite                             34\n",
       "Facebook                             33\n",
       "PlayStation5(PS5)                    33\n",
       "AssassinsCreed                       33\n",
       "Borderlands                          33\n",
       "Overwatch                            32\n",
       "Hearthstone                          32\n",
       "Verizon                              32\n",
       "CS-GO                                32\n",
       "CallOfDuty                           31\n",
       "Cyberpunk2077                        30\n",
       "WorldOfCraft                         30\n",
       "MaddenNFL                            29\n",
       "Microsoft                            28\n",
       "Dota2                                27\n",
       "CallOfDutyBlackopsColdWar            27\n",
       "Xbox(Xseries)                        26\n",
       "Battlefield                          26\n",
       "Google                               24\n",
       "TomClancysGhostRecon                 22\n",
       "NBA2K                                21\n",
       "HomeDepot                            18\n",
       "Name: count, dtype: int64"
      ]
     },
     "execution_count": 181,
     "metadata": {},
     "output_type": "execute_result"
    }
   ],
   "source": [
    "v2=df['social'].value_counts()\n",
    "v2"
   ]
  },
  {
   "cell_type": "code",
   "execution_count": 182,
   "metadata": {},
   "outputs": [
    {
     "data": {
      "text/plain": [
       "Text(0.5, 1.0, 'Social Media value counts')"
      ]
     },
     "execution_count": 182,
     "metadata": {},
     "output_type": "execute_result"
    },
    {
     "data": {
      "image/png": "[encoded data removed]",
      "text/plain": [
       "<Figure size 640x480 with 1 Axes>"
      ]
     },
     "metadata": {},
     "output_type": "display_data"
    }
   ],
   "source": [
    "plt.barh(v2.index,v2.values,color='blue')\n",
    "plt.title('Social Media value counts') #column is unwanted"
   ]
  },
  {
   "cell_type": "code",
   "execution_count": 183,
   "metadata": {},
   "outputs": [
    {
     "data": {
      "text/html": [
       "<div>\n",
       "<style scoped>\n",
       "    .dataframe tbody tr th:only-of-type {\n",
       "        vertical-align: middle;\n",
       "    }\n",
       "\n",
       "    .dataframe tbody tr th {\n",
       "        vertical-align: top;\n",
       "    }\n",
       "\n",
       "    .dataframe thead th {\n",
       "        text-align: right;\n",
       "    }\n",
       "</style>\n",
       "<table border=\"1\" class=\"dataframe\">\n",
       "  <thead>\n",
       "    <tr style=\"text-align: right;\">\n",
       "      <th></th>\n",
       "      <th>id</th>\n",
       "      <th>social</th>\n",
       "      <th>target</th>\n",
       "      <th>text</th>\n",
       "    </tr>\n",
       "  </thead>\n",
       "  <tbody>\n",
       "    <tr>\n",
       "      <th>1</th>\n",
       "      <td>352</td>\n",
       "      <td>Amazon</td>\n",
       "      <td>Neutral</td>\n",
       "      <td>BBC News - Amazon boss Jeff Bezos rejects clai...</td>\n",
       "    </tr>\n",
       "    <tr>\n",
       "      <th>2</th>\n",
       "      <td>8312</td>\n",
       "      <td>Microsoft</td>\n",
       "      <td>Negative</td>\n",
       "      <td>@Microsoft Why do I pay for WORD when it funct...</td>\n",
       "    </tr>\n",
       "    <tr>\n",
       "      <th>3</th>\n",
       "      <td>4371</td>\n",
       "      <td>CS-GO</td>\n",
       "      <td>Negative</td>\n",
       "      <td>CSGO matchmaking is so full of closet hacking,...</td>\n",
       "    </tr>\n",
       "    <tr>\n",
       "      <th>4</th>\n",
       "      <td>4433</td>\n",
       "      <td>Google</td>\n",
       "      <td>Neutral</td>\n",
       "      <td>Now the President is slapping Americans in the...</td>\n",
       "    </tr>\n",
       "    <tr>\n",
       "      <th>5</th>\n",
       "      <td>6273</td>\n",
       "      <td>FIFA</td>\n",
       "      <td>Negative</td>\n",
       "      <td>Hi @EAHelp Iâve had Madeleine McCann in my c...</td>\n",
       "    </tr>\n",
       "    <tr>\n",
       "      <th>...</th>\n",
       "      <td>...</td>\n",
       "      <td>...</td>\n",
       "      <td>...</td>\n",
       "      <td>...</td>\n",
       "    </tr>\n",
       "    <tr>\n",
       "      <th>993</th>\n",
       "      <td>314</td>\n",
       "      <td>Amazon</td>\n",
       "      <td>Negative</td>\n",
       "      <td>Please explain how this is possible! How can t...</td>\n",
       "    </tr>\n",
       "    <tr>\n",
       "      <th>994</th>\n",
       "      <td>9701</td>\n",
       "      <td>PlayStation5(PS5)</td>\n",
       "      <td>Positive</td>\n",
       "      <td>Good on Sony. As much as I want to see the new...</td>\n",
       "    </tr>\n",
       "    <tr>\n",
       "      <th>997</th>\n",
       "      <td>2652</td>\n",
       "      <td>Borderlands</td>\n",
       "      <td>Positive</td>\n",
       "      <td>Today sucked so itâs time to drink wine n pl...</td>\n",
       "    </tr>\n",
       "    <tr>\n",
       "      <th>998</th>\n",
       "      <td>8069</td>\n",
       "      <td>Microsoft</td>\n",
       "      <td>Positive</td>\n",
       "      <td>Bought a fraction of Microsoft today. Small wins.</td>\n",
       "    </tr>\n",
       "    <tr>\n",
       "      <th>999</th>\n",
       "      <td>6960</td>\n",
       "      <td>johnson&amp;johnson</td>\n",
       "      <td>Neutral</td>\n",
       "      <td>Johnson &amp; Johnson to stop selling talc baby po...</td>\n",
       "    </tr>\n",
       "  </tbody>\n",
       "</table>\n",
       "<p>828 rows × 4 columns</p>\n",
       "</div>"
      ],
      "text/plain": [
       "       id             social    target  \\\n",
       "1     352             Amazon   Neutral   \n",
       "2    8312          Microsoft  Negative   \n",
       "3    4371              CS-GO  Negative   \n",
       "4    4433             Google   Neutral   \n",
       "5    6273               FIFA  Negative   \n",
       "..    ...                ...       ...   \n",
       "993   314             Amazon  Negative   \n",
       "994  9701  PlayStation5(PS5)  Positive   \n",
       "997  2652        Borderlands  Positive   \n",
       "998  8069          Microsoft  Positive   \n",
       "999  6960    johnson&johnson   Neutral   \n",
       "\n",
       "                                                  text  \n",
       "1    BBC News - Amazon boss Jeff Bezos rejects clai...  \n",
       "2    @Microsoft Why do I pay for WORD when it funct...  \n",
       "3    CSGO matchmaking is so full of closet hacking,...  \n",
       "4    Now the President is slapping Americans in the...  \n",
       "5    Hi @EAHelp Iâve had Madeleine McCann in my c...  \n",
       "..                                                 ...  \n",
       "993  Please explain how this is possible! How can t...  \n",
       "994  Good on Sony. As much as I want to see the new...  \n",
       "997  Today sucked so itâs time to drink wine n pl...  \n",
       "998  Bought a fraction of Microsoft today. Small wins.  \n",
       "999  Johnson & Johnson to stop selling talc baby po...  \n",
       "\n",
       "[828 rows x 4 columns]"
      ]
     },
     "execution_count": 183,
     "metadata": {},
     "output_type": "execute_result"
    }
   ],
   "source": [
    "#drop columns\n",
    "\n",
    "df.drop(df.index[(df['target']=='Irrelevant')],axis=0,inplace=True)\n",
    "df"
   ]
  },
  {
   "cell_type": "code",
   "execution_count": 184,
   "metadata": {},
   "outputs": [
    {
     "data": {
      "text/html": [
       "<div>\n",
       "<style scoped>\n",
       "    .dataframe tbody tr th:only-of-type {\n",
       "        vertical-align: middle;\n",
       "    }\n",
       "\n",
       "    .dataframe tbody tr th {\n",
       "        vertical-align: top;\n",
       "    }\n",
       "\n",
       "    .dataframe thead th {\n",
       "        text-align: right;\n",
       "    }\n",
       "</style>\n",
       "<table border=\"1\" class=\"dataframe\">\n",
       "  <thead>\n",
       "    <tr style=\"text-align: right;\">\n",
       "      <th></th>\n",
       "      <th>id</th>\n",
       "      <th>social</th>\n",
       "      <th>target</th>\n",
       "      <th>text</th>\n",
       "    </tr>\n",
       "  </thead>\n",
       "  <tbody>\n",
       "    <tr>\n",
       "      <th>0</th>\n",
       "      <td>352</td>\n",
       "      <td>Amazon</td>\n",
       "      <td>Neutral</td>\n",
       "      <td>BBC News - Amazon boss Jeff Bezos rejects clai...</td>\n",
       "    </tr>\n",
       "    <tr>\n",
       "      <th>1</th>\n",
       "      <td>8312</td>\n",
       "      <td>Microsoft</td>\n",
       "      <td>Negative</td>\n",
       "      <td>@Microsoft Why do I pay for WORD when it funct...</td>\n",
       "    </tr>\n",
       "    <tr>\n",
       "      <th>2</th>\n",
       "      <td>4371</td>\n",
       "      <td>CS-GO</td>\n",
       "      <td>Negative</td>\n",
       "      <td>CSGO matchmaking is so full of closet hacking,...</td>\n",
       "    </tr>\n",
       "    <tr>\n",
       "      <th>3</th>\n",
       "      <td>4433</td>\n",
       "      <td>Google</td>\n",
       "      <td>Neutral</td>\n",
       "      <td>Now the President is slapping Americans in the...</td>\n",
       "    </tr>\n",
       "    <tr>\n",
       "      <th>4</th>\n",
       "      <td>6273</td>\n",
       "      <td>FIFA</td>\n",
       "      <td>Negative</td>\n",
       "      <td>Hi @EAHelp Iâve had Madeleine McCann in my c...</td>\n",
       "    </tr>\n",
       "    <tr>\n",
       "      <th>...</th>\n",
       "      <td>...</td>\n",
       "      <td>...</td>\n",
       "      <td>...</td>\n",
       "      <td>...</td>\n",
       "    </tr>\n",
       "    <tr>\n",
       "      <th>823</th>\n",
       "      <td>314</td>\n",
       "      <td>Amazon</td>\n",
       "      <td>Negative</td>\n",
       "      <td>Please explain how this is possible! How can t...</td>\n",
       "    </tr>\n",
       "    <tr>\n",
       "      <th>824</th>\n",
       "      <td>9701</td>\n",
       "      <td>PlayStation5(PS5)</td>\n",
       "      <td>Positive</td>\n",
       "      <td>Good on Sony. As much as I want to see the new...</td>\n",
       "    </tr>\n",
       "    <tr>\n",
       "      <th>825</th>\n",
       "      <td>2652</td>\n",
       "      <td>Borderlands</td>\n",
       "      <td>Positive</td>\n",
       "      <td>Today sucked so itâs time to drink wine n pl...</td>\n",
       "    </tr>\n",
       "    <tr>\n",
       "      <th>826</th>\n",
       "      <td>8069</td>\n",
       "      <td>Microsoft</td>\n",
       "      <td>Positive</td>\n",
       "      <td>Bought a fraction of Microsoft today. Small wins.</td>\n",
       "    </tr>\n",
       "    <tr>\n",
       "      <th>827</th>\n",
       "      <td>6960</td>\n",
       "      <td>johnson&amp;johnson</td>\n",
       "      <td>Neutral</td>\n",
       "      <td>Johnson &amp; Johnson to stop selling talc baby po...</td>\n",
       "    </tr>\n",
       "  </tbody>\n",
       "</table>\n",
       "<p>828 rows × 4 columns</p>\n",
       "</div>"
      ],
      "text/plain": [
       "       id             social    target  \\\n",
       "0     352             Amazon   Neutral   \n",
       "1    8312          Microsoft  Negative   \n",
       "2    4371              CS-GO  Negative   \n",
       "3    4433             Google   Neutral   \n",
       "4    6273               FIFA  Negative   \n",
       "..    ...                ...       ...   \n",
       "823   314             Amazon  Negative   \n",
       "824  9701  PlayStation5(PS5)  Positive   \n",
       "825  2652        Borderlands  Positive   \n",
       "826  8069          Microsoft  Positive   \n",
       "827  6960    johnson&johnson   Neutral   \n",
       "\n",
       "                                                  text  \n",
       "0    BBC News - Amazon boss Jeff Bezos rejects clai...  \n",
       "1    @Microsoft Why do I pay for WORD when it funct...  \n",
       "2    CSGO matchmaking is so full of closet hacking,...  \n",
       "3    Now the President is slapping Americans in the...  \n",
       "4    Hi @EAHelp Iâve had Madeleine McCann in my c...  \n",
       "..                                                 ...  \n",
       "823  Please explain how this is possible! How can t...  \n",
       "824  Good on Sony. As much as I want to see the new...  \n",
       "825  Today sucked so itâs time to drink wine n pl...  \n",
       "826  Bought a fraction of Microsoft today. Small wins.  \n",
       "827  Johnson & Johnson to stop selling talc baby po...  \n",
       "\n",
       "[828 rows x 4 columns]"
      ]
     },
     "execution_count": 184,
     "metadata": {},
     "output_type": "execute_result"
    }
   ],
   "source": [
    "df.reset_index(drop=True,inplace=True) #resetting index\n",
    "df"
   ]
  },
  {
   "cell_type": "code",
   "execution_count": 185,
   "metadata": {},
   "outputs": [
    {
     "data": {
      "text/html": [
       "<div>\n",
       "<style scoped>\n",
       "    .dataframe tbody tr th:only-of-type {\n",
       "        vertical-align: middle;\n",
       "    }\n",
       "\n",
       "    .dataframe tbody tr th {\n",
       "        vertical-align: top;\n",
       "    }\n",
       "\n",
       "    .dataframe thead th {\n",
       "        text-align: right;\n",
       "    }\n",
       "</style>\n",
       "<table border=\"1\" class=\"dataframe\">\n",
       "  <thead>\n",
       "    <tr style=\"text-align: right;\">\n",
       "      <th></th>\n",
       "      <th>target</th>\n",
       "      <th>text</th>\n",
       "    </tr>\n",
       "  </thead>\n",
       "  <tbody>\n",
       "    <tr>\n",
       "      <th>0</th>\n",
       "      <td>Neutral</td>\n",
       "      <td>BBC News - Amazon boss Jeff Bezos rejects clai...</td>\n",
       "    </tr>\n",
       "    <tr>\n",
       "      <th>1</th>\n",
       "      <td>Negative</td>\n",
       "      <td>@Microsoft Why do I pay for WORD when it funct...</td>\n",
       "    </tr>\n",
       "    <tr>\n",
       "      <th>2</th>\n",
       "      <td>Negative</td>\n",
       "      <td>CSGO matchmaking is so full of closet hacking,...</td>\n",
       "    </tr>\n",
       "    <tr>\n",
       "      <th>3</th>\n",
       "      <td>Neutral</td>\n",
       "      <td>Now the President is slapping Americans in the...</td>\n",
       "    </tr>\n",
       "    <tr>\n",
       "      <th>4</th>\n",
       "      <td>Negative</td>\n",
       "      <td>Hi @EAHelp Iâve had Madeleine McCann in my c...</td>\n",
       "    </tr>\n",
       "    <tr>\n",
       "      <th>...</th>\n",
       "      <td>...</td>\n",
       "      <td>...</td>\n",
       "    </tr>\n",
       "    <tr>\n",
       "      <th>823</th>\n",
       "      <td>Negative</td>\n",
       "      <td>Please explain how this is possible! How can t...</td>\n",
       "    </tr>\n",
       "    <tr>\n",
       "      <th>824</th>\n",
       "      <td>Positive</td>\n",
       "      <td>Good on Sony. As much as I want to see the new...</td>\n",
       "    </tr>\n",
       "    <tr>\n",
       "      <th>825</th>\n",
       "      <td>Positive</td>\n",
       "      <td>Today sucked so itâs time to drink wine n pl...</td>\n",
       "    </tr>\n",
       "    <tr>\n",
       "      <th>826</th>\n",
       "      <td>Positive</td>\n",
       "      <td>Bought a fraction of Microsoft today. Small wins.</td>\n",
       "    </tr>\n",
       "    <tr>\n",
       "      <th>827</th>\n",
       "      <td>Neutral</td>\n",
       "      <td>Johnson &amp; Johnson to stop selling talc baby po...</td>\n",
       "    </tr>\n",
       "  </tbody>\n",
       "</table>\n",
       "<p>828 rows × 2 columns</p>\n",
       "</div>"
      ],
      "text/plain": [
       "       target                                               text\n",
       "0     Neutral  BBC News - Amazon boss Jeff Bezos rejects clai...\n",
       "1    Negative  @Microsoft Why do I pay for WORD when it funct...\n",
       "2    Negative  CSGO matchmaking is so full of closet hacking,...\n",
       "3     Neutral  Now the President is slapping Americans in the...\n",
       "4    Negative  Hi @EAHelp Iâve had Madeleine McCann in my c...\n",
       "..        ...                                                ...\n",
       "823  Negative  Please explain how this is possible! How can t...\n",
       "824  Positive  Good on Sony. As much as I want to see the new...\n",
       "825  Positive  Today sucked so itâs time to drink wine n pl...\n",
       "826  Positive  Bought a fraction of Microsoft today. Small wins.\n",
       "827   Neutral  Johnson & Johnson to stop selling talc baby po...\n",
       "\n",
       "[828 rows x 2 columns]"
      ]
     },
     "execution_count": 185,
     "metadata": {},
     "output_type": "execute_result"
    }
   ],
   "source": [
    "df.drop(['id','social'],axis=1,inplace=True)\n",
    "df"
   ]
  },
  {
   "cell_type": "code",
   "execution_count": 186,
   "metadata": {},
   "outputs": [
    {
     "data": {
      "text/html": [
       "<div>\n",
       "<style scoped>\n",
       "    .dataframe tbody tr th:only-of-type {\n",
       "        vertical-align: middle;\n",
       "    }\n",
       "\n",
       "    .dataframe tbody tr th {\n",
       "        vertical-align: top;\n",
       "    }\n",
       "\n",
       "    .dataframe thead th {\n",
       "        text-align: right;\n",
       "    }\n",
       "</style>\n",
       "<table border=\"1\" class=\"dataframe\">\n",
       "  <thead>\n",
       "    <tr style=\"text-align: right;\">\n",
       "      <th></th>\n",
       "      <th>target</th>\n",
       "      <th>text</th>\n",
       "    </tr>\n",
       "  </thead>\n",
       "  <tbody>\n",
       "    <tr>\n",
       "      <th>0</th>\n",
       "      <td>0</td>\n",
       "      <td>BBC News - Amazon boss Jeff Bezos rejects clai...</td>\n",
       "    </tr>\n",
       "    <tr>\n",
       "      <th>1</th>\n",
       "      <td>-1</td>\n",
       "      <td>@Microsoft Why do I pay for WORD when it funct...</td>\n",
       "    </tr>\n",
       "    <tr>\n",
       "      <th>2</th>\n",
       "      <td>-1</td>\n",
       "      <td>CSGO matchmaking is so full of closet hacking,...</td>\n",
       "    </tr>\n",
       "    <tr>\n",
       "      <th>3</th>\n",
       "      <td>0</td>\n",
       "      <td>Now the President is slapping Americans in the...</td>\n",
       "    </tr>\n",
       "    <tr>\n",
       "      <th>4</th>\n",
       "      <td>-1</td>\n",
       "      <td>Hi @EAHelp Iâve had Madeleine McCann in my c...</td>\n",
       "    </tr>\n",
       "    <tr>\n",
       "      <th>...</th>\n",
       "      <td>...</td>\n",
       "      <td>...</td>\n",
       "    </tr>\n",
       "    <tr>\n",
       "      <th>823</th>\n",
       "      <td>-1</td>\n",
       "      <td>Please explain how this is possible! How can t...</td>\n",
       "    </tr>\n",
       "    <tr>\n",
       "      <th>824</th>\n",
       "      <td>1</td>\n",
       "      <td>Good on Sony. As much as I want to see the new...</td>\n",
       "    </tr>\n",
       "    <tr>\n",
       "      <th>825</th>\n",
       "      <td>1</td>\n",
       "      <td>Today sucked so itâs time to drink wine n pl...</td>\n",
       "    </tr>\n",
       "    <tr>\n",
       "      <th>826</th>\n",
       "      <td>1</td>\n",
       "      <td>Bought a fraction of Microsoft today. Small wins.</td>\n",
       "    </tr>\n",
       "    <tr>\n",
       "      <th>827</th>\n",
       "      <td>0</td>\n",
       "      <td>Johnson &amp; Johnson to stop selling talc baby po...</td>\n",
       "    </tr>\n",
       "  </tbody>\n",
       "</table>\n",
       "<p>828 rows × 2 columns</p>\n",
       "</div>"
      ],
      "text/plain": [
       "     target                                               text\n",
       "0         0  BBC News - Amazon boss Jeff Bezos rejects clai...\n",
       "1        -1  @Microsoft Why do I pay for WORD when it funct...\n",
       "2        -1  CSGO matchmaking is so full of closet hacking,...\n",
       "3         0  Now the President is slapping Americans in the...\n",
       "4        -1  Hi @EAHelp Iâve had Madeleine McCann in my c...\n",
       "..      ...                                                ...\n",
       "823      -1  Please explain how this is possible! How can t...\n",
       "824       1  Good on Sony. As much as I want to see the new...\n",
       "825       1  Today sucked so itâs time to drink wine n pl...\n",
       "826       1  Bought a fraction of Microsoft today. Small wins.\n",
       "827       0  Johnson & Johnson to stop selling talc baby po...\n",
       "\n",
       "[828 rows x 2 columns]"
      ]
     },
     "execution_count": 186,
     "metadata": {},
     "output_type": "execute_result"
    }
   ],
   "source": [
    "#assigning numerical values to target column\n",
    "\n",
    "df['target']=df['target'].map({'Positive':1,'Negative':-1,'Neutral':0})\n",
    "df"
   ]
  },
  {
   "cell_type": "code",
   "execution_count": 187,
   "metadata": {},
   "outputs": [
    {
     "data": {
      "text/plain": [
       "target     int64\n",
       "text      object\n",
       "dtype: object"
      ]
     },
     "execution_count": 187,
     "metadata": {},
     "output_type": "execute_result"
    }
   ],
   "source": [
    "df.dtypes"
   ]
  },
  {
   "cell_type": "code",
   "execution_count": null,
   "metadata": {},
   "outputs": [
    {
     "name": "stderr",
     "output_type": "stream",
     "text": [
      "[nltk_data] Downloading package stopwords to\n",
      "[nltk_data]     C:\\Users\\DELL\\AppData\\Roaming\\nltk_data...\n",
      "[nltk_data]   Package stopwords is already up-to-date!\n",
      "[nltk_data] Downloading package punkt_tab to\n",
      "[nltk_data]     C:\\Users\\DELL\\AppData\\Roaming\\nltk_data...\n",
      "[nltk_data]   Package punkt_tab is already up-to-date!\n",
      "[nltk_data] Downloading package wordnet to\n",
      "[nltk_data]     C:\\Users\\DELL\\AppData\\Roaming\\nltk_data...\n",
      "[nltk_data]   Package wordnet is already up-to-date!\n",
      "[nltk_data] Downloading package omw-1.4 to\n",
      "[nltk_data]     C:\\Users\\DELL\\AppData\\Roaming\\nltk_data...\n",
      "[nltk_data]   Package omw-1.4 is already up-to-date!\n"
     ]
    },
    {
     "data": {
      "text/plain": [
       "True"
      ]
     },
     "execution_count": 188,
     "metadata": {},
     "output_type": "execute_result"
    }
   ],
   "source": [
    "#nlp\n",
    "\n",
    "nltk.download('stopwords')\n",
    "nltk.download('punkt_tab')\n",
    "nltk.download('wordnet')\n",
    "nltk.download('omw-1.4')"
   ]
  },
  {
   "cell_type": "code",
   "execution_count": 189,
   "metadata": {},
   "outputs": [
    {
     "data": {
      "text/plain": [
       "0      BBC News - Amazon boss Jeff Bezos rejects clai...\n",
       "1      @Microsoft Why do I pay for WORD when it funct...\n",
       "2      CSGO matchmaking is so full of closet hacking,...\n",
       "3      Now the President is slapping Americans in the...\n",
       "4      Hi @EAHelp Iâve had Madeleine McCann in my c...\n",
       "                             ...                        \n",
       "823    Please explain how this is possible! How can t...\n",
       "824    Good on Sony. As much as I want to see the new...\n",
       "825    Today sucked so itâs time to drink wine n pl...\n",
       "826    Bought a fraction of Microsoft today. Small wins.\n",
       "827    Johnson & Johnson to stop selling talc baby po...\n",
       "Name: text, Length: 828, dtype: object"
      ]
     },
     "execution_count": 189,
     "metadata": {},
     "output_type": "execute_result"
    }
   ],
   "source": [
    "tweets=df.text\n",
    "tweets"
   ]
  },
  {
   "cell_type": "code",
   "execution_count": 190,
   "metadata": {},
   "outputs": [
    {
     "data": {
      "text/plain": [
       "0      BBC News - Amazon boss Jeff Bezos rejects clai...\n",
       "1      @Microsoft Why do I pay for WORD when it funct...\n",
       "2      CSGO matchmaking is so full of closet hacking ...\n",
       "3      Now the President is slapping Americans in the...\n",
       "4      Hi @EAHelp Iâ   ve had Madeleine McCann in m...\n",
       "                             ...                        \n",
       "823    Please explain how this is possible ! How can ...\n",
       "824    Good on Sony . As much as I want to see the ne...\n",
       "825    Today sucked so itâ   s time to drink wine n...\n",
       "826    Bought a fraction of Microsoft today . Small w...\n",
       "827    Johnson & Johnson to stop selling talc baby po...\n",
       "Name: text, Length: 828, dtype: object"
      ]
     },
     "execution_count": 190,
     "metadata": {},
     "output_type": "execute_result"
    }
   ],
   "source": [
    "#Tokenization \n",
    "\n",
    "from nltk.tokenize import TweetTokenizer\n",
    "tk=TweetTokenizer()\n",
    "tweets=tweets.apply(lambda x:tk.tokenize(x)).apply(lambda x:\" \".join(x))\n",
    "#join - to separate tokens using space instead of commas\n",
    "\n",
    "tweets"
   ]
  },
  {
   "cell_type": "code",
   "execution_count": 191,
   "metadata": {},
   "outputs": [
    {
     "data": {
      "text/plain": [
       "0      BBC News   Amazon boss Jeff Bezos rejects clai...\n",
       "1       Microsoft Why do I pay for WORD when it funct...\n",
       "2      CSGO matchmaking is so full of closet hacking ...\n",
       "3      Now the President is slapping Americans in the...\n",
       "4      Hi  EAHelp I      ve had Madeleine McCann in m...\n",
       "                             ...                        \n",
       "823    Please explain how this is possible   How can ...\n",
       "824    Good on Sony   As much as I want to see the ne...\n",
       "825    Today sucked so it      s time to drink wine n...\n",
       "826    Bought a fraction of Microsoft today   Small w...\n",
       "827    Johnson   Johnson to stop selling talc baby po...\n",
       "Name: text, Length: 828, dtype: object"
      ]
     },
     "execution_count": 191,
     "metadata": {},
     "output_type": "execute_result"
    }
   ],
   "source": [
    "#remove special characters\n",
    "\n",
    "tweets=tweets.str.replace('[^a-zA-Z0-9]',' ',regex=True)\n",
    "tweets"
   ]
  },
  {
   "cell_type": "code",
   "execution_count": 192,
   "metadata": {},
   "outputs": [
    {
     "data": {
      "text/plain": [
       "0      BBC News Amazon boss Jeff Bezos rejects claims...\n",
       "1      Microsoft Why pay for WORD when functions poor...\n",
       "2      CSGO matchmaking full closet hacking truly awf...\n",
       "3      Now the President slapping Americans the face ...\n",
       "4      EAHelp had Madeleine McCann cellar for the pas...\n",
       "                             ...                        \n",
       "823    Please explain how this possible How can they ...\n",
       "824    Good Sony much want see the new PS5 what going...\n",
       "825    Today sucked time drink wine play borderlands ...\n",
       "826           Bought fraction Microsoft today Small wins\n",
       "827    Johnson Johnson stop selling talc baby powder ...\n",
       "Name: text, Length: 828, dtype: object"
      ]
     },
     "execution_count": 192,
     "metadata": {},
     "output_type": "execute_result"
    }
   ],
   "source": [
    "#len words above 3\n",
    "\n",
    "tweets=tweets.apply(lambda x:' '.join([w for w in tk.tokenize(x) if len(w)>=3]))\n",
    "tweets"
   ]
  },
  {
   "cell_type": "code",
   "execution_count": 193,
   "metadata": {},
   "outputs": [
    {
     "data": {
      "text/plain": [
       "0      bbc news amazon boss jeff bezo reject claim co...\n",
       "1      microsoft whi pay for word when function poor ...\n",
       "2           csgo matchmak full closet hack truli aw game\n",
       "3      now the presid slap american the face that rea...\n",
       "4      eahelp had madelein mccann cellar for the past...\n",
       "                             ...                        \n",
       "823    pleas explain how this possibl how can they le...\n",
       "824    good soni much want see the new ps5 what go ri...\n",
       "825    today suck time drink wine play borderland unt...\n",
       "826            bought fraction microsoft today small win\n",
       "827    johnson johnson stop sell talc babi powder and...\n",
       "Name: text, Length: 828, dtype: object"
      ]
     },
     "execution_count": 193,
     "metadata": {},
     "output_type": "execute_result"
    }
   ],
   "source": [
    "#stemming\n",
    "\n",
    "from nltk.stem import SnowballStemmer\n",
    "stemmer=SnowballStemmer('english')\n",
    "tweets=tweets.apply(lambda x:[stemmer.stem(i.lower()) for i in tk.tokenize(x)]).apply(lambda x:' '.join(x))\n",
    "tweets"
   ]
  },
  {
   "cell_type": "code",
   "execution_count": 194,
   "metadata": {},
   "outputs": [
    {
     "data": {
      "text/plain": [
       "0      bbc news amazon boss jeff bezo reject claim co...\n",
       "1      microsoft whi pay word function poor samsungus...\n",
       "2           csgo matchmak full closet hack truli aw game\n",
       "3      presid slap american face realli commit unlaw ...\n",
       "4      eahelp madelein mccann cellar past year littl ...\n",
       "                             ...                        \n",
       "823    pleas explain possibl let compani overcharg sc...\n",
       "824    good soni much want see new ps5 go right much ...\n",
       "825    today suck time drink wine play borderland sun...\n",
       "826            bought fraction microsoft today small win\n",
       "827    johnson johnson stop sell talc babi powder can...\n",
       "Name: text, Length: 828, dtype: object"
      ]
     },
     "execution_count": 194,
     "metadata": {},
     "output_type": "execute_result"
    }
   ],
   "source": [
    "#tokens without stopwords\n",
    "\n",
    "from nltk.corpus import stopwords\n",
    "stw=stopwords.words('english')\n",
    "\n",
    "tweets=tweets.apply(lambda x:[i for i in tk.tokenize(x) if i not in stw]).apply(lambda x:' '.join(x))\n",
    "tweets\n"
   ]
  },
  {
   "cell_type": "code",
   "execution_count": 195,
   "metadata": {},
   "outputs": [
    {
     "data": {
      "text/plain": [
       "<828x3763 sparse matrix of type '<class 'numpy.float64'>'\n",
       "\twith 10461 stored elements in Compressed Sparse Row format>"
      ]
     },
     "execution_count": 195,
     "metadata": {},
     "output_type": "execute_result"
    }
   ],
   "source": [
    "#Vectorization\n",
    "\n",
    "from sklearn.feature_extraction.text import TfidfVectorizer\n",
    "vec=TfidfVectorizer()\n",
    "\n",
    "data=vec.fit_transform(tweets)\n",
    "data"
   ]
  },
  {
   "cell_type": "code",
   "execution_count": 196,
   "metadata": {},
   "outputs": [
    {
     "name": "stdout",
     "output_type": "stream",
     "text": [
      "  (0, 668)\t0.2608257828483461\n",
      "  (0, 982)\t0.2608257828483461\n",
      "  (0, 1108)\t0.23509805002803952\n",
      "  (0, 1976)\t0.13277165480466424\n",
      "  (0, 286)\t0.22681557001542715\n",
      "  (0, 838)\t0.17354914655342313\n",
      "  (0, 785)\t0.21432663830218204\n",
      "  (0, 2741)\t0.2608257828483461\n",
      "  (0, 545)\t0.2608257828483461\n",
      "  (0, 1813)\t0.24577602391989378\n",
      "  (0, 610)\t0.22681557001542715\n",
      "  (0, 353)\t0.1515362387424402\n",
      "  (0, 2267)\t0.38864111655856126\n",
      "  (0, 515)\t0.49155204783978756\n",
      "  (1, 775)\t0.4055823664694651\n",
      "  (1, 2871)\t0.4055823664694651\n",
      "  (1, 2538)\t0.3821800909185634\n",
      "  (1, 1383)\t0.4055823664694651\n",
      "  (1, 3659)\t0.36557591217188057\n",
      "  (1, 2442)\t0.3126902562590763\n",
      "  (1, 3619)\t0.26216072802580975\n",
      "  (1, 2135)\t0.24555654927912696\n",
      "  (2, 1405)\t0.1689251539717079\n",
      "  (2, 463)\t0.36574263611909275\n",
      "  (2, 3412)\t0.36574263611909275\n",
      "  :\t:\n",
      "  (825, 3373)\t0.3395996844494919\n",
      "  (825, 3363)\t0.2560582225152134\n",
      "  (825, 608)\t0.22981061112100945\n",
      "  (825, 975)\t0.2315686698425631\n",
      "  (825, 3353)\t0.21750175079084832\n",
      "  (825, 3206)\t0.2904718522758868\n",
      "  (825, 2507)\t0.17148706662740873\n",
      "  (826, 1359)\t0.5079831062080814\n",
      "  (826, 3050)\t0.47867226429410115\n",
      "  (826, 613)\t0.4174215841659411\n",
      "  (826, 3630)\t0.353278941165688\n",
      "  (826, 3363)\t0.34523850330234374\n",
      "  (826, 2135)\t0.3075542453642147\n",
      "  (827, 182)\t0.3283693467320579\n",
      "  (827, 1110)\t0.3283693467320579\n",
      "  (827, 2788)\t0.3283693467320579\n",
      "  (827, 134)\t0.3283693467320579\n",
      "  (827, 689)\t0.2770320970909926\n",
      "  (827, 2926)\t0.2635889502019104\n",
      "  (827, 3254)\t0.2635889502019104\n",
      "  (827, 3173)\t0.2311987519368367\n",
      "  (827, 1666)\t0.15963411936668057\n",
      "  (827, 2556)\t0.24870786898500463\n",
      "  (827, 483)\t0.23743856420618148\n",
      "  (827, 1834)\t0.3947412386878786\n"
     ]
    }
   ],
   "source": [
    "print(data)"
   ]
  },
  {
   "cell_type": "code",
   "execution_count": 197,
   "metadata": {},
   "outputs": [
    {
     "data": {
      "text/plain": [
       "array([ 0, -1, -1,  0, -1,  1,  1,  1, -1,  1,  1, -1,  0, -1,  1,  1, -1,\n",
       "        1, -1, -1,  0, -1,  0,  0, -1, -1,  1,  1, -1,  1, -1,  0,  0,  1,\n",
       "        0,  1,  0,  0,  0,  1,  0, -1, -1, -1,  0,  1, -1, -1,  1,  1,  1,\n",
       "        1,  1, -1, -1,  1,  1, -1,  0, -1,  0, -1,  1, -1, -1,  1,  1,  1,\n",
       "        0,  0,  0,  1,  1,  0,  1,  0, -1, -1,  0,  0, -1,  1, -1, -1, -1,\n",
       "        0,  1,  0, -1,  1,  1,  0,  1,  0,  1, -1,  0,  0,  0, -1,  0, -1,\n",
       "        0,  0,  1,  1,  0, -1, -1,  1, -1,  0, -1,  1,  0, -1,  0,  1,  0,\n",
       "        1,  1,  0,  0,  0,  0,  1,  0,  1,  1, -1,  0,  0,  0,  0, -1,  0,\n",
       "        1, -1,  0, -1,  0, -1, -1, -1,  1,  1,  1,  0,  0,  1,  0,  0,  0,\n",
       "        1,  0, -1, -1,  0,  1,  1,  0,  1,  1,  0,  0, -1, -1, -1, -1,  1,\n",
       "        0,  0,  1,  1,  1,  1, -1,  1,  1,  0, -1, -1, -1,  1,  1, -1, -1,\n",
       "        1,  1, -1,  1,  1, -1,  1,  0, -1,  0,  0,  1, -1,  1,  1,  0,  1,\n",
       "       -1, -1,  1,  1,  1,  1,  0,  0,  1, -1,  0,  1,  0, -1,  0,  0, -1,\n",
       "        1,  1, -1,  0,  1,  0, -1,  0, -1,  1,  1, -1, -1, -1,  1, -1,  0,\n",
       "        1,  0,  0, -1,  1, -1,  1, -1,  0,  0,  1, -1,  0, -1,  1, -1,  1,\n",
       "        1,  1,  1,  1,  1, -1, -1,  1, -1,  0,  0,  0,  1,  0,  1, -1,  0,\n",
       "        0,  0,  0, -1,  1, -1, -1,  1,  1,  0,  0, -1, -1, -1,  0,  1,  0,\n",
       "       -1,  1,  0, -1, -1, -1,  1,  0,  0, -1,  1,  1,  0,  1,  0,  0,  1,\n",
       "        1, -1,  0,  1, -1,  0, -1, -1,  1,  1,  1,  1,  0, -1,  0,  1,  0,\n",
       "        1, -1, -1, -1,  1,  0,  1, -1,  0, -1,  1,  1,  1,  1,  0,  0,  0,\n",
       "       -1,  1,  1,  0, -1,  1,  0, -1, -1, -1, -1, -1,  0,  0,  0,  1,  1,\n",
       "       -1, -1,  0, -1,  0,  0, -1,  1, -1,  1,  1,  1,  0,  1,  0,  0, -1,\n",
       "        1,  0,  0,  0,  0,  0,  0,  0,  0, -1, -1,  1,  1,  0, -1, -1,  1,\n",
       "        1, -1,  1,  1,  1,  1,  1,  0, -1,  1,  0,  0,  1,  1,  1,  1,  0,\n",
       "       -1, -1, -1, -1,  0,  1, -1, -1,  1,  1,  0,  0, -1, -1,  1,  0, -1,\n",
       "       -1, -1,  0,  0,  1, -1, -1, -1,  0,  0,  0, -1, -1,  1, -1,  0, -1,\n",
       "        0,  1, -1,  0,  1,  1, -1,  0,  0,  1, -1, -1,  0,  0, -1,  1, -1,\n",
       "        0, -1, -1, -1,  1, -1,  1, -1,  1, -1, -1,  0, -1,  0, -1,  1, -1,\n",
       "        0, -1, -1,  0,  0,  1, -1,  1,  0,  0,  0,  0, -1,  0,  0,  0, -1,\n",
       "       -1,  0,  1,  0,  0, -1,  0,  1,  0,  0,  0,  0,  0,  1,  0,  1,  1,\n",
       "        1,  0, -1,  1,  0,  0, -1,  1,  0,  0, -1,  0, -1,  0,  1, -1,  1,\n",
       "       -1, -1,  0,  0,  0,  0,  1,  1,  1, -1, -1,  0,  1,  0,  0, -1,  1,\n",
       "        1,  0,  1, -1, -1,  0,  1, -1,  1, -1,  0,  1,  1,  0,  0,  0,  1,\n",
       "        0, -1,  0,  0, -1,  1, -1,  0,  1,  1,  1,  1,  0, -1,  0,  1,  1,\n",
       "        1,  1,  1, -1,  0,  1,  0,  0, -1, -1, -1,  0,  1,  0, -1,  1,  1,\n",
       "        1,  0,  1, -1,  0, -1,  0, -1,  0,  0,  1, -1,  1,  1,  0, -1,  0,\n",
       "       -1, -1, -1, -1,  1,  1,  1,  1,  0, -1, -1,  1, -1, -1,  0,  0,  1,\n",
       "        0, -1,  0,  1, -1,  0,  1, -1,  0,  0,  1, -1,  0, -1,  1,  1,  0,\n",
       "        1,  0,  1, -1,  0,  0,  0,  1,  0,  0, -1,  1,  0, -1, -1,  0,  0,\n",
       "        1, -1, -1, -1, -1,  1,  0,  0,  1,  0, -1,  1,  1, -1,  1,  1,  0,\n",
       "       -1,  0,  1,  1, -1, -1, -1,  1, -1,  0, -1,  0,  0,  1,  1, -1,  0,\n",
       "        1, -1, -1, -1, -1, -1, -1, -1, -1,  0, -1,  0,  0,  0,  1,  0,  0,\n",
       "        0, -1,  0,  1,  0, -1, -1,  1,  0,  1,  0,  1,  0, -1,  1,  1,  1,\n",
       "        1, -1, -1,  1,  0,  0,  0,  0,  0,  0, -1, -1, -1, -1,  1, -1,  0,\n",
       "        1,  0, -1,  1,  1, -1,  1,  0,  0,  1, -1,  0, -1,  0,  1,  1,  0,\n",
       "       -1,  1, -1, -1,  0, -1,  0, -1,  1,  0, -1, -1,  1,  1, -1,  0, -1,\n",
       "        0,  0,  0,  0,  0,  0,  1,  0,  1,  1,  1, -1,  0,  1,  0,  1,  0,\n",
       "        1,  0,  1,  0, -1, -1,  1,  1,  1,  1,  0, -1,  1,  1, -1, -1, -1,\n",
       "        0,  1,  0,  1,  1,  0,  1, -1,  1,  1,  1,  0], dtype=int64)"
      ]
     },
     "execution_count": 197,
     "metadata": {},
     "output_type": "execute_result"
    }
   ],
   "source": [
    "y=df['target'].values\n",
    "y"
   ]
  },
  {
   "cell_type": "code",
   "execution_count": 198,
   "metadata": {},
   "outputs": [
    {
     "data": {
      "text/plain": [
       "<579x3763 sparse matrix of type '<class 'numpy.float64'>'\n",
       "\twith 7222 stored elements in Compressed Sparse Row format>"
      ]
     },
     "execution_count": 198,
     "metadata": {},
     "output_type": "execute_result"
    }
   ],
   "source": [
    "#input - data , output - y\n",
    "\n",
    "from sklearn.model_selection import train_test_split\n",
    "x_train,x_test,y_train,y_test=train_test_split(data,y,test_size=0.30,random_state=42)\n",
    "x_train"
   ]
  },
  {
   "cell_type": "code",
   "execution_count": 199,
   "metadata": {},
   "outputs": [],
   "source": [
    "#Classification\n",
    "\n",
    "from sklearn.neighbors import KNeighborsClassifier\n",
    "from sklearn.naive_bayes import BernoulliNB\n",
    "from sklearn.ensemble import RandomForestClassifier\n",
    "from sklearn.svm import SVC\n",
    "from sklearn.metrics import confusion_matrix,accuracy_score,classification_report\n",
    "\n",
    "knn=KNeighborsClassifier(n_neighbors=7)\n",
    "nb=BernoulliNB()\n",
    "svm=SVC()\n",
    "rf=RandomForestClassifier()\n",
    "\n",
    "lst=[knn,nb,svm,rf]"
   ]
  },
  {
   "cell_type": "code",
   "execution_count": 200,
   "metadata": {},
   "outputs": [
    {
     "name": "stdout",
     "output_type": "stream",
     "text": [
      "Model name is ** KNeighborsClassifier(n_neighbors=7) **\n",
      "****************************************************************************************************\n",
      "[[56 13 10]\n",
      " [34 30 15]\n",
      " [45 14 32]]\n",
      "****************************************************************************************************\n",
      "0.4738955823293173\n",
      "****************************************************************************************************\n",
      "              precision    recall  f1-score   support\n",
      "\n",
      "          -1       0.41      0.71      0.52        79\n",
      "           0       0.53      0.38      0.44        79\n",
      "           1       0.56      0.35      0.43        91\n",
      "\n",
      "    accuracy                           0.47       249\n",
      "   macro avg       0.50      0.48      0.47       249\n",
      "weighted avg       0.50      0.47      0.46       249\n",
      "\n",
      "Model name is ** BernoulliNB() **\n",
      "****************************************************************************************************\n",
      "[[53  7 19]\n",
      " [15 29 35]\n",
      " [22  7 62]]\n",
      "****************************************************************************************************\n",
      "0.5783132530120482\n",
      "****************************************************************************************************\n",
      "              precision    recall  f1-score   support\n",
      "\n",
      "          -1       0.59      0.67      0.63        79\n",
      "           0       0.67      0.37      0.48        79\n",
      "           1       0.53      0.68      0.60        91\n",
      "\n",
      "    accuracy                           0.58       249\n",
      "   macro avg       0.60      0.57      0.57       249\n",
      "weighted avg       0.60      0.58      0.57       249\n",
      "\n",
      "Model name is ** SVC() **\n",
      "****************************************************************************************************\n",
      "[[40 34  5]\n",
      " [ 9 60 10]\n",
      " [11 36 44]]\n",
      "****************************************************************************************************\n",
      "0.5783132530120482\n",
      "****************************************************************************************************\n",
      "              precision    recall  f1-score   support\n",
      "\n",
      "          -1       0.67      0.51      0.58        79\n",
      "           0       0.46      0.76      0.57        79\n",
      "           1       0.75      0.48      0.59        91\n",
      "\n",
      "    accuracy                           0.58       249\n",
      "   macro avg       0.62      0.58      0.58       249\n",
      "weighted avg       0.63      0.58      0.58       249\n",
      "\n",
      "Model name is ** RandomForestClassifier() **\n",
      "****************************************************************************************************\n",
      "[[52 15 12]\n",
      " [28 41 10]\n",
      " [24 28 39]]\n",
      "****************************************************************************************************\n",
      "0.5301204819277109\n",
      "****************************************************************************************************\n",
      "              precision    recall  f1-score   support\n",
      "\n",
      "          -1       0.50      0.66      0.57        79\n",
      "           0       0.49      0.52      0.50        79\n",
      "           1       0.64      0.43      0.51        91\n",
      "\n",
      "    accuracy                           0.53       249\n",
      "   macro avg       0.54      0.54      0.53       249\n",
      "weighted avg       0.55      0.53      0.53       249\n",
      "\n"
     ]
    }
   ],
   "source": [
    "for i in lst:\n",
    "    print(\"Model name is **\",i,'**')\n",
    "    i.fit(x_train,y_train)\n",
    "    y_pred=i.predict(x_test)\n",
    "    print('*'*100)\n",
    "    cm=confusion_matrix(y_test,y_pred)\n",
    "    print(cm)\n",
    "    print('*'*100)\n",
    "    sc=accuracy_score(y_test,y_pred)\n",
    "    print(sc)\n",
    "    print('*'*100)\n",
    "    rep=classification_report(y_test,y_pred)\n",
    "    print(rep)"
   ]
  }
 ],
 "metadata": {
  "kernelspec": {
   "display_name": "Python 3",
   "language": "python",
   "name": "python3"
  },
  "language_info": {
   "codemirror_mode": {
    "name": "ipython",
    "version": 3
   },
   "file_extension": ".py",
   "mimetype": "text/x-python",
   "name": "python",
   "nbconvert_exporter": "python",
   "pygments_lexer": "ipython3",
   "version": "3.8.0"
  }
 },
 "nbformat": 4,
 "nbformat_minor": 2
}
