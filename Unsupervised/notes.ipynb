{
 "cells": [
  {
   "cell_type": "code",
   "execution_count": null,
   "metadata": {},
   "outputs": [],
   "source": [
    "# __Unsupervised ML__\n",
    "\n",
    "# - unlabeled data\n",
    "# - unlabeled data is transformed to labeled data using clustering\n",
    "# - Then supervised ML can be applied to it to make predictions"
   ]
  },
  {
   "cell_type": "code",
   "execution_count": null,
   "metadata": {},
   "outputs": [],
   "source": [
    "# __Clustering__\n",
    "\n",
    "# - used for market segmentation\n",
    "# - algo used - K-Means (commonly used)\n",
    "# - other algos - DBSCAN, Hierarchical clustering\n",
    "# - Hierarchical 2 types : Agglomerative clustering, Divisive Analysis (DIANA)"
   ]
  },
  {
   "cell_type": "code",
   "execution_count": null,
   "metadata": {},
   "outputs": [],
   "source": [
    "# __K-Means Algo__\n",
    "\n",
    "# - Define value K = No.of clusters\n",
    "# - Choose K no.of centroid points\n",
    "# - Calculate distance & group"
   ]
  },
  {
   "cell_type": "code",
   "execution_count": null,
   "metadata": {},
   "outputs": [],
   "source": [
    "# __Finding no.of Clusters__\n",
    "\n",
    "# - based on elbow points"
   ]
  }
 ],
 "metadata": {
  "language_info": {
   "name": "python"
  }
 },
 "nbformat": 4,
 "nbformat_minor": 2
}
